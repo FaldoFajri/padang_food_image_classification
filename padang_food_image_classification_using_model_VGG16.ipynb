{
  "cells": [
    {
      "cell_type": "markdown",
      "metadata": {
        "id": "view-in-github",
        "colab_type": "text"
      },
      "source": [
        "<a href=\"https://colab.research.google.com/github/FaldoFajri/padang_food_image_classification/blob/main/padang_food_image_classification_using_model_VGG16.ipynb\" target=\"_parent\"><img src=\"https://colab.research.google.com/assets/colab-badge.svg\" alt=\"Open In Colab\"/></a>"
      ]
    },
    {
      "cell_type": "markdown",
      "source": [
        "# Padang Food Image Classification\n",
        "\n",
        "Padang cuisine is food that comes from the Minangkabau area, West Sumatra, Indonesian. So far, Padang cuisine still has loyal fans in West Sumatra and throughout Indonesia. Padang cuisine is cooked using a lot of herbs and spices, which makes this dish much loved by everyone. Not only that but internationally, Padang cuisine is famous for its rendang which has been named the most delicious food in the world. Rendang was ranked first as the most delicious food in the world version of CNN International's 50 Most Delicious Foods version. For eight times in a row, rendang continued to stay in first place from 2011 to 2019.\n",
        "\n",
        "This dataset contains images of the most popular Padang cuisine, to be more specific:\n",
        "\n",
        "1. Beef rendang\n",
        "2. Chicken Pop\n",
        "3. Fried Chicken\n",
        "4. Dendeng Batokok\n",
        "5. Fish Curry\n",
        "6. Tambusu Curry\n",
        "7. Tunjang Curry\n",
        "8. Balado Egg\n",
        "9. Padang Omelette\n",
        "\n",
        "Link Dataset : https://doi.org/10.34740/KAGGLE/DSV/4053613"
      ],
      "metadata": {
        "id": "zIlXVrtSTG7J"
      },
      "id": "zIlXVrtSTG7J"
    },
    {
      "cell_type": "markdown",
      "source": [
        "# Import dataset from Kaggle"
      ],
      "metadata": {
        "id": "3fibGx75ON1m"
      },
      "id": "3fibGx75ON1m"
    },
    {
      "cell_type": "code",
      "source": [
        "! pip install opendatasets --quiet"
      ],
      "metadata": {
        "id": "Ohe9xAf-OMj4"
      },
      "id": "Ohe9xAf-OMj4",
      "execution_count": null,
      "outputs": []
    },
    {
      "cell_type": "markdown",
      "source": [
        "Before downloading the dataset, enter your username and kaggle account key, the method can be seen in http://bit.ly/kaggle-creds"
      ],
      "metadata": {
        "id": "bM-iFDsZ_1iF"
      },
      "id": "bM-iFDsZ_1iF"
    },
    {
      "cell_type": "code",
      "source": [
        "import opendatasets as od \n",
        "dataset_url = 'https://www.kaggle.com/datasets/faldoae/padangfood'\n",
        "od.download(dataset_url)"
      ],
      "metadata": {
        "colab": {
          "base_uri": "https://localhost:8080/"
        },
        "id": "9l1RJF4yOTfK",
        "outputId": "7d908c6d-48fe-4d4b-e465-faba4c206a38"
      },
      "id": "9l1RJF4yOTfK",
      "execution_count": null,
      "outputs": [
        {
          "output_type": "stream",
          "name": "stdout",
          "text": [
            "Please provide your Kaggle credentials to download this dataset. Learn more: http://bit.ly/kaggle-creds\n",
            "Your Kaggle username: faldoae\n",
            "Your Kaggle Key: ··········\n",
            "Downloading padangfood.zip to ./padangfood\n"
          ]
        },
        {
          "output_type": "stream",
          "name": "stderr",
          "text": [
            "100%|██████████| 114M/114M [00:03<00:00, 39.6MB/s]\n"
          ]
        },
        {
          "output_type": "stream",
          "name": "stdout",
          "text": [
            "\n"
          ]
        }
      ]
    },
    {
      "cell_type": "code",
      "execution_count": null,
      "id": "6ea11f34",
      "metadata": {
        "_cell_guid": "b1076dfc-b9ad-4769-8c92-a6c4dae69d19",
        "_uuid": "8f2839f25d086af736a60e9eeb907d3b93b6e0e5",
        "execution": {
          "iopub.execute_input": "2022-08-28T07:44:29.837221Z",
          "iopub.status.busy": "2022-08-28T07:44:29.836126Z",
          "iopub.status.idle": "2022-08-28T07:44:36.852653Z",
          "shell.execute_reply": "2022-08-28T07:44:36.851433Z"
        },
        "papermill": {
          "duration": 7.026521,
          "end_time": "2022-08-28T07:44:36.855163",
          "exception": false,
          "start_time": "2022-08-28T07:44:29.828642",
          "status": "completed"
        },
        "tags": [],
        "id": "6ea11f34"
      },
      "outputs": [],
      "source": [
        "import numpy as np\n",
        "import pandas as pd \n",
        "\n",
        "import os\n",
        "\n",
        "import pandas as pd\n",
        "import numpy as np \n",
        "import seaborn as sns\n",
        "import matplotlib.pyplot as plt \n",
        "import warnings\n",
        "warnings.filterwarnings('ignore')\n",
        "\n",
        "from tensorflow.keras.preprocessing.image import ImageDataGenerator\n",
        "from tensorflow.keras.models import Sequential\n",
        "from tensorflow.keras.layers import Activation, Dropout, Flatten, Dense, Conv2D, MaxPooling2D\n",
        "from tensorflow.keras.callbacks import EarlyStopping, ModelCheckpoint, ReduceLROnPlateau\n",
        "\n",
        "%matplotlib inline"
      ]
    },
    {
      "cell_type": "markdown",
      "id": "32db6c77",
      "metadata": {
        "papermill": {
          "duration": 0.004263,
          "end_time": "2022-08-28T07:44:36.863902",
          "exception": false,
          "start_time": "2022-08-28T07:44:36.859639",
          "status": "completed"
        },
        "tags": [],
        "id": "32db6c77"
      },
      "source": [
        "# Splitting Dataset"
      ]
    },
    {
      "cell_type": "code",
      "execution_count": null,
      "id": "81ca565e",
      "metadata": {
        "execution": {
          "iopub.execute_input": "2022-08-28T07:44:36.874753Z",
          "iopub.status.busy": "2022-08-28T07:44:36.873850Z",
          "iopub.status.idle": "2022-08-28T07:44:37.871286Z",
          "shell.execute_reply": "2022-08-28T07:44:37.869987Z"
        },
        "papermill": {
          "duration": 1.006124,
          "end_time": "2022-08-28T07:44:37.874103",
          "exception": false,
          "start_time": "2022-08-28T07:44:36.867979",
          "status": "completed"
        },
        "tags": [],
        "id": "81ca565e"
      },
      "outputs": [],
      "source": [
        "#create a new folder that is used to enter the results of the split dataset\n",
        "\n",
        "!mkdir datasplit"
      ]
    },
    {
      "cell_type": "code",
      "execution_count": null,
      "id": "4cf9474d",
      "metadata": {
        "execution": {
          "iopub.execute_input": "2022-08-28T07:44:37.884878Z",
          "iopub.status.busy": "2022-08-28T07:44:37.884523Z",
          "iopub.status.idle": "2022-08-28T07:44:37.890554Z",
          "shell.execute_reply": "2022-08-28T07:44:37.889693Z"
        },
        "papermill": {
          "duration": 0.014113,
          "end_time": "2022-08-28T07:44:37.892779",
          "exception": false,
          "start_time": "2022-08-28T07:44:37.878666",
          "status": "completed"
        },
        "tags": [],
        "id": "4cf9474d"
      },
      "outputs": [],
      "source": [
        "#create variables by defining the location of the raw dataset folder and the splitting dataset folder\n",
        "\n",
        "dataraw = '/content/padangfood/dataset_padang_food'\n",
        "datasplit = '/content/datasplit'"
      ]
    },
    {
      "cell_type": "code",
      "execution_count": null,
      "id": "e257030a",
      "metadata": {
        "execution": {
          "iopub.execute_input": "2022-08-28T07:44:37.902472Z",
          "iopub.status.busy": "2022-08-28T07:44:37.902146Z",
          "iopub.status.idle": "2022-08-28T07:44:55.669621Z",
          "shell.execute_reply": "2022-08-28T07:44:55.667938Z"
        },
        "papermill": {
          "duration": 17.774946,
          "end_time": "2022-08-28T07:44:55.671866",
          "exception": false,
          "start_time": "2022-08-28T07:44:37.896920",
          "status": "completed"
        },
        "tags": [],
        "colab": {
          "base_uri": "https://localhost:8080/"
        },
        "id": "e257030a",
        "outputId": "718bd6ba-55ac-4c1a-a1e6-666a13316cfc"
      },
      "outputs": [
        {
          "output_type": "stream",
          "name": "stdout",
          "text": [
            "Looking in indexes: https://pypi.org/simple, https://us-python.pkg.dev/colab-wheels/public/simple/\n",
            "Collecting split-folders\n",
            "  Downloading split_folders-0.5.1-py3-none-any.whl (8.4 kB)\n",
            "Installing collected packages: split-folders\n",
            "Successfully installed split-folders-0.5.1\n"
          ]
        },
        {
          "output_type": "stream",
          "name": "stderr",
          "text": [
            "Copying files: 993 files [00:00, 3284.59 files/s]\n"
          ]
        }
      ],
      "source": [
        "#dataset splitting process with a ratio of 60% train data, 30% validation data and 10% test data\n",
        "\n",
        "!pip install split-folders #install \n",
        "import splitfolders\n",
        "splitfolders.ratio(dataraw, output=datasplit, seed=1337, ratio=(.6,.3,.1),group_prefix=None)"
      ]
    },
    {
      "cell_type": "code",
      "execution_count": null,
      "id": "385e250f",
      "metadata": {
        "execution": {
          "iopub.execute_input": "2022-08-28T07:44:55.688871Z",
          "iopub.status.busy": "2022-08-28T07:44:55.688541Z",
          "iopub.status.idle": "2022-08-28T07:44:55.694120Z",
          "shell.execute_reply": "2022-08-28T07:44:55.693108Z"
        },
        "papermill": {
          "duration": 0.016692,
          "end_time": "2022-08-28T07:44:55.696237",
          "exception": false,
          "start_time": "2022-08-28T07:44:55.679545",
          "status": "completed"
        },
        "tags": [],
        "id": "385e250f"
      },
      "outputs": [],
      "source": [
        "test_dir = \"./datasplit/test\"\n",
        "train_dir = \"./datasplit/train\"\n",
        "val_dir = \"./datasplit/val\""
      ]
    },
    {
      "cell_type": "markdown",
      "source": [
        "# Import Machine Learning Model VGG16"
      ],
      "metadata": {
        "id": "hlZsTGKG3ORa"
      },
      "id": "hlZsTGKG3ORa"
    },
    {
      "cell_type": "code",
      "execution_count": null,
      "id": "39a91257",
      "metadata": {
        "execution": {
          "iopub.execute_input": "2022-08-28T07:44:55.712123Z",
          "iopub.status.busy": "2022-08-28T07:44:55.711801Z",
          "iopub.status.idle": "2022-08-28T07:44:59.396631Z",
          "shell.execute_reply": "2022-08-28T07:44:59.395593Z"
        },
        "papermill": {
          "duration": 3.695528,
          "end_time": "2022-08-28T07:44:59.399279",
          "exception": false,
          "start_time": "2022-08-28T07:44:55.703751",
          "status": "completed"
        },
        "tags": [],
        "id": "39a91257",
        "colab": {
          "base_uri": "https://localhost:8080/"
        },
        "outputId": "60f65feb-ab13-4f73-f549-848cbb953210"
      },
      "outputs": [
        {
          "output_type": "stream",
          "name": "stdout",
          "text": [
            "Downloading data from https://storage.googleapis.com/tensorflow/keras-applications/vgg16/vgg16_weights_tf_dim_ordering_tf_kernels_notop.h5\n",
            "58892288/58889256 [==============================] - 1s 0us/step\n",
            "58900480/58889256 [==============================] - 1s 0us/step\n"
          ]
        }
      ],
      "source": [
        "#DISINI SAYA MENGGUNAKAN MODEL VGG16\n",
        "\n",
        "from tensorflow.keras.applications.vgg16 import VGG16\n",
        "from tensorflow.keras.applications.vgg16 import preprocess_input\n",
        "\n",
        "base_model = VGG16(weights=\"imagenet\", include_top=False, input_shape=(224,224,3))\n",
        "base_model.trainable = False"
      ]
    },
    {
      "cell_type": "code",
      "execution_count": null,
      "id": "33a7d19e",
      "metadata": {
        "execution": {
          "iopub.execute_input": "2022-08-28T07:44:59.418017Z",
          "iopub.status.busy": "2022-08-28T07:44:59.417689Z",
          "iopub.status.idle": "2022-08-28T07:44:59.516270Z",
          "shell.execute_reply": "2022-08-28T07:44:59.515314Z"
        },
        "papermill": {
          "duration": 0.110137,
          "end_time": "2022-08-28T07:44:59.518721",
          "exception": false,
          "start_time": "2022-08-28T07:44:59.408584",
          "status": "completed"
        },
        "tags": [],
        "id": "33a7d19e"
      },
      "outputs": [],
      "source": [
        "from tensorflow.keras import layers, models\n",
        "\n",
        "flatten_layer = layers.Flatten()\n",
        "dense_layer_1 = layers.Dense(512, activation='relu')\n",
        "dropout = layers.Dropout(0.5)\n",
        "prediction_layer = layers.Dense(9, activation='softmax')\n",
        "\n",
        "model = models.Sequential([\n",
        "    base_model,\n",
        "    flatten_layer,\n",
        "    dense_layer_1,\n",
        "    dropout,\n",
        "    prediction_layer\n",
        "])"
      ]
    },
    {
      "cell_type": "markdown",
      "source": [
        "# Augmentation Data"
      ],
      "metadata": {
        "id": "AKkMSVI_3Yq7"
      },
      "id": "AKkMSVI_3Yq7"
    },
    {
      "cell_type": "code",
      "execution_count": null,
      "id": "cc91f84b",
      "metadata": {
        "execution": {
          "iopub.execute_input": "2022-08-28T07:44:59.542017Z",
          "iopub.status.busy": "2022-08-28T07:44:59.541131Z",
          "iopub.status.idle": "2022-08-28T07:44:59.547078Z",
          "shell.execute_reply": "2022-08-28T07:44:59.546036Z"
        },
        "papermill": {
          "duration": 0.020873,
          "end_time": "2022-08-28T07:44:59.549148",
          "exception": false,
          "start_time": "2022-08-28T07:44:59.528275",
          "status": "completed"
        },
        "tags": [],
        "id": "cc91f84b"
      },
      "outputs": [],
      "source": [
        "image_shape = (224,224,3)\n",
        "image_gen = ImageDataGenerator(rotation_range=20,\n",
        "                               width_shift_range=0.10,\n",
        "                               height_shift_range=0.10,\n",
        "                               rescale=1/255,\n",
        "                               shear_range=0.1,\n",
        "                               zoom_range=0.1,\n",
        "                               horizontal_flip=True,\n",
        "                               fill_mode='nearest')"
      ]
    },
    {
      "cell_type": "code",
      "execution_count": null,
      "id": "4c864042",
      "metadata": {
        "execution": {
          "iopub.execute_input": "2022-08-28T07:44:59.567577Z",
          "iopub.status.busy": "2022-08-28T07:44:59.566817Z",
          "iopub.status.idle": "2022-08-28T07:44:59.676413Z",
          "shell.execute_reply": "2022-08-28T07:44:59.675282Z"
        },
        "papermill": {
          "duration": 0.121256,
          "end_time": "2022-08-28T07:44:59.679118",
          "exception": false,
          "start_time": "2022-08-28T07:44:59.557862",
          "status": "completed"
        },
        "tags": [],
        "id": "4c864042",
        "colab": {
          "base_uri": "https://localhost:8080/"
        },
        "outputId": "f026ba6e-b8ee-4128-b569-ea57d4881b24"
      },
      "outputs": [
        {
          "output_type": "stream",
          "name": "stdout",
          "text": [
            "Found 591 images belonging to 9 classes.\n"
          ]
        }
      ],
      "source": [
        "train_image_gen = image_gen.flow_from_directory(train_dir,\n",
        "                                               target_size=(224,224),\n",
        "                                               batch_size=32,\n",
        "                                               class_mode='categorical')"
      ]
    },
    {
      "cell_type": "code",
      "execution_count": null,
      "id": "b7d7486f",
      "metadata": {
        "execution": {
          "iopub.execute_input": "2022-08-28T07:44:59.697171Z",
          "iopub.status.busy": "2022-08-28T07:44:59.696828Z",
          "iopub.status.idle": "2022-08-28T07:44:59.805454Z",
          "shell.execute_reply": "2022-08-28T07:44:59.804432Z"
        },
        "papermill": {
          "duration": 0.119943,
          "end_time": "2022-08-28T07:44:59.807643",
          "exception": false,
          "start_time": "2022-08-28T07:44:59.687700",
          "status": "completed"
        },
        "tags": [],
        "id": "b7d7486f",
        "colab": {
          "base_uri": "https://localhost:8080/"
        },
        "outputId": "5c781f7a-e8af-4f25-e517-e4966e0a456f"
      },
      "outputs": [
        {
          "output_type": "stream",
          "name": "stdout",
          "text": [
            "Found 293 images belonging to 9 classes.\n"
          ]
        }
      ],
      "source": [
        "val_image_gen = image_gen.flow_from_directory(val_dir,\n",
        "                                               target_size=(224,224),\n",
        "                                               batch_size=32,\n",
        "                                               class_mode='categorical',shuffle=False)"
      ]
    },
    {
      "cell_type": "code",
      "execution_count": null,
      "id": "d40b15bc",
      "metadata": {
        "execution": {
          "iopub.execute_input": "2022-08-28T07:44:59.825969Z",
          "iopub.status.busy": "2022-08-28T07:44:59.825098Z",
          "iopub.status.idle": "2022-08-28T07:44:59.932045Z",
          "shell.execute_reply": "2022-08-28T07:44:59.931106Z"
        },
        "papermill": {
          "duration": 0.118631,
          "end_time": "2022-08-28T07:44:59.934618",
          "exception": false,
          "start_time": "2022-08-28T07:44:59.815987",
          "status": "completed"
        },
        "tags": [],
        "id": "d40b15bc",
        "colab": {
          "base_uri": "https://localhost:8080/"
        },
        "outputId": "3790f268-8827-4253-fde2-6d26a4a7dd89"
      },
      "outputs": [
        {
          "output_type": "stream",
          "name": "stdout",
          "text": [
            "Found 109 images belonging to 9 classes.\n"
          ]
        }
      ],
      "source": [
        "test_image_gen = image_gen.flow_from_directory(test_dir,\n",
        "                                               target_size=(224,224),\n",
        "                                               batch_size=32,\n",
        "                                               class_mode='categorical',shuffle=False)"
      ]
    },
    {
      "cell_type": "markdown",
      "source": [
        "# Train Machine Learning Model"
      ],
      "metadata": {
        "id": "BKlIfa2E3fQP"
      },
      "id": "BKlIfa2E3fQP"
    },
    {
      "cell_type": "code",
      "execution_count": null,
      "id": "ef4dcb59",
      "metadata": {
        "execution": {
          "iopub.execute_input": "2022-08-28T07:44:59.952280Z",
          "iopub.status.busy": "2022-08-28T07:44:59.951725Z",
          "iopub.status.idle": "2022-08-28T08:28:04.718529Z",
          "shell.execute_reply": "2022-08-28T08:28:04.717509Z"
        },
        "papermill": {
          "duration": 2584.947812,
          "end_time": "2022-08-28T08:28:04.890351",
          "exception": false,
          "start_time": "2022-08-28T07:44:59.942539",
          "status": "completed"
        },
        "tags": [],
        "id": "ef4dcb59",
        "colab": {
          "base_uri": "https://localhost:8080/"
        },
        "outputId": "a9ae810c-489c-47e0-a3cc-913591481581"
      },
      "outputs": [
        {
          "output_type": "stream",
          "name": "stdout",
          "text": [
            "Epoch 1/160\n",
            "19/19 [==============================] - 39s 1s/step - loss: 2.4835 - accuracy: 0.1083 - val_loss: 2.1298 - val_accuracy: 0.1945\n",
            "Epoch 2/160\n",
            "19/19 [==============================] - 23s 1s/step - loss: 2.2829 - accuracy: 0.1709 - val_loss: 2.0077 - val_accuracy: 0.3003\n",
            "Epoch 3/160\n",
            "19/19 [==============================] - 16s 839ms/step - loss: 2.1645 - accuracy: 0.2166 - val_loss: 1.8918 - val_accuracy: 0.3754\n",
            "Epoch 4/160\n",
            "19/19 [==============================] - 16s 829ms/step - loss: 1.9651 - accuracy: 0.2775 - val_loss: 1.7938 - val_accuracy: 0.4198\n",
            "Epoch 5/160\n",
            "19/19 [==============================] - 16s 837ms/step - loss: 1.8341 - accuracy: 0.3401 - val_loss: 1.7372 - val_accuracy: 0.4471\n",
            "Epoch 6/160\n",
            "19/19 [==============================] - 17s 893ms/step - loss: 1.7069 - accuracy: 0.3909 - val_loss: 1.6348 - val_accuracy: 0.5290\n",
            "Epoch 7/160\n",
            "19/19 [==============================] - 16s 845ms/step - loss: 1.6082 - accuracy: 0.4264 - val_loss: 1.5825 - val_accuracy: 0.5324\n",
            "Epoch 8/160\n",
            "19/19 [==============================] - 16s 831ms/step - loss: 1.5575 - accuracy: 0.4535 - val_loss: 1.5414 - val_accuracy: 0.5666\n",
            "Epoch 9/160\n",
            "19/19 [==============================] - 16s 834ms/step - loss: 1.4468 - accuracy: 0.5398 - val_loss: 1.4898 - val_accuracy: 0.5358\n",
            "Epoch 10/160\n",
            "19/19 [==============================] - 16s 872ms/step - loss: 1.4292 - accuracy: 0.5025 - val_loss: 1.4415 - val_accuracy: 0.5427\n",
            "Epoch 11/160\n",
            "19/19 [==============================] - 16s 838ms/step - loss: 1.3742 - accuracy: 0.5347 - val_loss: 1.4067 - val_accuracy: 0.5870\n",
            "Epoch 12/160\n",
            "19/19 [==============================] - 17s 903ms/step - loss: 1.3021 - accuracy: 0.5533 - val_loss: 1.3404 - val_accuracy: 0.5973\n",
            "Epoch 13/160\n",
            "19/19 [==============================] - 16s 834ms/step - loss: 1.2457 - accuracy: 0.6091 - val_loss: 1.3234 - val_accuracy: 0.6075\n",
            "Epoch 14/160\n",
            "19/19 [==============================] - 16s 839ms/step - loss: 1.1991 - accuracy: 0.6125 - val_loss: 1.2985 - val_accuracy: 0.6109\n",
            "Epoch 15/160\n",
            "19/19 [==============================] - 16s 841ms/step - loss: 1.1966 - accuracy: 0.5939 - val_loss: 1.2703 - val_accuracy: 0.6177\n",
            "Epoch 16/160\n",
            "19/19 [==============================] - 16s 843ms/step - loss: 1.0828 - accuracy: 0.6734 - val_loss: 1.2291 - val_accuracy: 0.6143\n",
            "Epoch 17/160\n",
            "19/19 [==============================] - 16s 832ms/step - loss: 1.0862 - accuracy: 0.6294 - val_loss: 1.2108 - val_accuracy: 0.6451\n",
            "Epoch 18/160\n",
            "19/19 [==============================] - 16s 873ms/step - loss: 1.0630 - accuracy: 0.6650 - val_loss: 1.1868 - val_accuracy: 0.6348\n",
            "Epoch 19/160\n",
            "19/19 [==============================] - 16s 832ms/step - loss: 1.0235 - accuracy: 0.6751 - val_loss: 1.1081 - val_accuracy: 0.6860\n",
            "Epoch 20/160\n",
            "19/19 [==============================] - 16s 828ms/step - loss: 1.0040 - accuracy: 0.6802 - val_loss: 1.1353 - val_accuracy: 0.6485\n",
            "Epoch 21/160\n",
            "19/19 [==============================] - 16s 841ms/step - loss: 0.9430 - accuracy: 0.7056 - val_loss: 1.1152 - val_accuracy: 0.6451\n",
            "Epoch 22/160\n",
            "19/19 [==============================] - 16s 844ms/step - loss: 0.9749 - accuracy: 0.6887 - val_loss: 1.1163 - val_accuracy: 0.6621\n",
            "Epoch 23/160\n",
            "19/19 [==============================] - 16s 843ms/step - loss: 0.8885 - accuracy: 0.7496 - val_loss: 1.0669 - val_accuracy: 0.6894\n",
            "Epoch 24/160\n",
            "19/19 [==============================] - 16s 838ms/step - loss: 0.8823 - accuracy: 0.7140 - val_loss: 1.0434 - val_accuracy: 0.6962\n",
            "Epoch 25/160\n",
            "19/19 [==============================] - 16s 863ms/step - loss: 0.8652 - accuracy: 0.7411 - val_loss: 1.0470 - val_accuracy: 0.6758\n",
            "Epoch 26/160\n",
            "19/19 [==============================] - 17s 882ms/step - loss: 0.8381 - accuracy: 0.7293 - val_loss: 1.0209 - val_accuracy: 0.6928\n",
            "Epoch 27/160\n",
            "19/19 [==============================] - 16s 837ms/step - loss: 0.8028 - accuracy: 0.7411 - val_loss: 1.0192 - val_accuracy: 0.6826\n",
            "Epoch 28/160\n",
            "19/19 [==============================] - 16s 843ms/step - loss: 0.7896 - accuracy: 0.7428 - val_loss: 0.9982 - val_accuracy: 0.7099\n",
            "Epoch 29/160\n",
            "19/19 [==============================] - 16s 835ms/step - loss: 0.8120 - accuracy: 0.7496 - val_loss: 0.9918 - val_accuracy: 0.6792\n",
            "Epoch 30/160\n",
            "19/19 [==============================] - 16s 838ms/step - loss: 0.7671 - accuracy: 0.7733 - val_loss: 0.9744 - val_accuracy: 0.6724\n",
            "Epoch 31/160\n",
            "19/19 [==============================] - 16s 838ms/step - loss: 0.7260 - accuracy: 0.7716 - val_loss: 0.9604 - val_accuracy: 0.6894\n",
            "Epoch 32/160\n",
            "19/19 [==============================] - 16s 834ms/step - loss: 0.7105 - accuracy: 0.7919 - val_loss: 0.9537 - val_accuracy: 0.7065\n",
            "Epoch 33/160\n",
            "19/19 [==============================] - 16s 831ms/step - loss: 0.6798 - accuracy: 0.8003 - val_loss: 0.9313 - val_accuracy: 0.7270\n",
            "Epoch 34/160\n",
            "19/19 [==============================] - 16s 867ms/step - loss: 0.6633 - accuracy: 0.7902 - val_loss: 0.9073 - val_accuracy: 0.7270\n",
            "Epoch 35/160\n",
            "19/19 [==============================] - 16s 832ms/step - loss: 0.6534 - accuracy: 0.8156 - val_loss: 0.9281 - val_accuracy: 0.7304\n",
            "Epoch 36/160\n",
            "19/19 [==============================] - 16s 839ms/step - loss: 0.6557 - accuracy: 0.8020 - val_loss: 0.9072 - val_accuracy: 0.7270\n",
            "Epoch 37/160\n",
            "19/19 [==============================] - 16s 827ms/step - loss: 0.6062 - accuracy: 0.8325 - val_loss: 0.9013 - val_accuracy: 0.7270\n",
            "Epoch 38/160\n",
            "19/19 [==============================] - 16s 827ms/step - loss: 0.6503 - accuracy: 0.7885 - val_loss: 0.8705 - val_accuracy: 0.7201\n",
            "Epoch 39/160\n",
            "19/19 [==============================] - 16s 829ms/step - loss: 0.6058 - accuracy: 0.8274 - val_loss: 0.8853 - val_accuracy: 0.7235\n",
            "Epoch 40/160\n",
            "19/19 [==============================] - 16s 843ms/step - loss: 0.6105 - accuracy: 0.8223 - val_loss: 0.8579 - val_accuracy: 0.7304\n",
            "Epoch 41/160\n",
            "19/19 [==============================] - 16s 854ms/step - loss: 0.6057 - accuracy: 0.8274 - val_loss: 0.8837 - val_accuracy: 0.7133\n",
            "Epoch 42/160\n",
            "19/19 [==============================] - 16s 872ms/step - loss: 0.5743 - accuracy: 0.8494 - val_loss: 0.8667 - val_accuracy: 0.7099\n",
            "Epoch 43/160\n",
            "19/19 [==============================] - 16s 834ms/step - loss: 0.5448 - accuracy: 0.8443 - val_loss: 0.9019 - val_accuracy: 0.7201\n",
            "Epoch 44/160\n",
            "19/19 [==============================] - 16s 838ms/step - loss: 0.5732 - accuracy: 0.8291 - val_loss: 0.8742 - val_accuracy: 0.7372\n",
            "Epoch 45/160\n",
            "19/19 [==============================] - 16s 830ms/step - loss: 0.5503 - accuracy: 0.8393 - val_loss: 0.8505 - val_accuracy: 0.7201\n",
            "Epoch 46/160\n",
            "19/19 [==============================] - 16s 829ms/step - loss: 0.5073 - accuracy: 0.8663 - val_loss: 0.8315 - val_accuracy: 0.7304\n",
            "Epoch 47/160\n",
            "19/19 [==============================] - 16s 829ms/step - loss: 0.5056 - accuracy: 0.8714 - val_loss: 0.8248 - val_accuracy: 0.7304\n",
            "Epoch 48/160\n",
            "19/19 [==============================] - 16s 835ms/step - loss: 0.5242 - accuracy: 0.8562 - val_loss: 0.8694 - val_accuracy: 0.7201\n",
            "Epoch 49/160\n",
            "19/19 [==============================] - 16s 829ms/step - loss: 0.5027 - accuracy: 0.8748 - val_loss: 0.7847 - val_accuracy: 0.7474\n",
            "Epoch 50/160\n",
            "19/19 [==============================] - 16s 834ms/step - loss: 0.4827 - accuracy: 0.8629 - val_loss: 0.8347 - val_accuracy: 0.7270\n",
            "Epoch 51/160\n",
            "19/19 [==============================] - 16s 855ms/step - loss: 0.5257 - accuracy: 0.8359 - val_loss: 0.8207 - val_accuracy: 0.7543\n",
            "Epoch 52/160\n",
            "19/19 [==============================] - 16s 826ms/step - loss: 0.4720 - accuracy: 0.8562 - val_loss: 0.8057 - val_accuracy: 0.7270\n",
            "Epoch 53/160\n",
            "19/19 [==============================] - 16s 823ms/step - loss: 0.4915 - accuracy: 0.8528 - val_loss: 0.8069 - val_accuracy: 0.7406\n",
            "Epoch 54/160\n",
            "19/19 [==============================] - 16s 835ms/step - loss: 0.4643 - accuracy: 0.8816 - val_loss: 0.8039 - val_accuracy: 0.7338\n",
            "Epoch 55/160\n",
            "19/19 [==============================] - 16s 825ms/step - loss: 0.4694 - accuracy: 0.8917 - val_loss: 0.7985 - val_accuracy: 0.7304\n",
            "Epoch 56/160\n",
            "19/19 [==============================] - 16s 832ms/step - loss: 0.4278 - accuracy: 0.8917 - val_loss: 0.8067 - val_accuracy: 0.7338\n",
            "Epoch 57/160\n",
            "19/19 [==============================] - 16s 833ms/step - loss: 0.4491 - accuracy: 0.8697 - val_loss: 0.7987 - val_accuracy: 0.7713\n",
            "Epoch 58/160\n",
            "19/19 [==============================] - 16s 833ms/step - loss: 0.4428 - accuracy: 0.8816 - val_loss: 0.7964 - val_accuracy: 0.7270\n",
            "Epoch 59/160\n",
            "19/19 [==============================] - 17s 885ms/step - loss: 0.4304 - accuracy: 0.8900 - val_loss: 0.8132 - val_accuracy: 0.7372\n",
            "Epoch 60/160\n",
            "19/19 [==============================] - 16s 855ms/step - loss: 0.4265 - accuracy: 0.8866 - val_loss: 0.7848 - val_accuracy: 0.7338\n",
            "Epoch 61/160\n",
            "19/19 [==============================] - 16s 836ms/step - loss: 0.4259 - accuracy: 0.8900 - val_loss: 0.8029 - val_accuracy: 0.7406\n",
            "Epoch 62/160\n",
            "19/19 [==============================] - 16s 861ms/step - loss: 0.4272 - accuracy: 0.8782 - val_loss: 0.7647 - val_accuracy: 0.7338\n",
            "Epoch 63/160\n",
            "19/19 [==============================] - 16s 845ms/step - loss: 0.4272 - accuracy: 0.8849 - val_loss: 0.8157 - val_accuracy: 0.7201\n",
            "Epoch 64/160\n",
            "19/19 [==============================] - 16s 841ms/step - loss: 0.3852 - accuracy: 0.9069 - val_loss: 0.8052 - val_accuracy: 0.7338\n",
            "Epoch 65/160\n",
            "19/19 [==============================] - 16s 841ms/step - loss: 0.3889 - accuracy: 0.8951 - val_loss: 0.7679 - val_accuracy: 0.7543\n",
            "Epoch 66/160\n",
            "19/19 [==============================] - 16s 852ms/step - loss: 0.3988 - accuracy: 0.9069 - val_loss: 0.7856 - val_accuracy: 0.7440\n",
            "Epoch 67/160\n",
            "19/19 [==============================] - 16s 877ms/step - loss: 0.3700 - accuracy: 0.9069 - val_loss: 0.8207 - val_accuracy: 0.7509\n",
            "Epoch 68/160\n",
            "19/19 [==============================] - 16s 823ms/step - loss: 0.3751 - accuracy: 0.8951 - val_loss: 0.7909 - val_accuracy: 0.7406\n",
            "Epoch 69/160\n",
            "19/19 [==============================] - 16s 838ms/step - loss: 0.3721 - accuracy: 0.8985 - val_loss: 0.7265 - val_accuracy: 0.7509\n",
            "Epoch 70/160\n",
            "19/19 [==============================] - 16s 838ms/step - loss: 0.3567 - accuracy: 0.9188 - val_loss: 0.7892 - val_accuracy: 0.7543\n",
            "Epoch 71/160\n",
            "19/19 [==============================] - 16s 844ms/step - loss: 0.3447 - accuracy: 0.9137 - val_loss: 0.7418 - val_accuracy: 0.7747\n",
            "Epoch 72/160\n",
            "19/19 [==============================] - 16s 830ms/step - loss: 0.3453 - accuracy: 0.9171 - val_loss: 0.7662 - val_accuracy: 0.7509\n",
            "Epoch 73/160\n",
            "19/19 [==============================] - 16s 848ms/step - loss: 0.3612 - accuracy: 0.9086 - val_loss: 0.7404 - val_accuracy: 0.7406\n",
            "Epoch 74/160\n",
            "19/19 [==============================] - 16s 835ms/step - loss: 0.3450 - accuracy: 0.9154 - val_loss: 0.7598 - val_accuracy: 0.7509\n",
            "Epoch 75/160\n",
            "19/19 [==============================] - 16s 843ms/step - loss: 0.3345 - accuracy: 0.9239 - val_loss: 0.7325 - val_accuracy: 0.7509\n",
            "Epoch 76/160\n",
            "19/19 [==============================] - 17s 881ms/step - loss: 0.3439 - accuracy: 0.9137 - val_loss: 0.7266 - val_accuracy: 0.7406\n",
            "Epoch 77/160\n",
            "19/19 [==============================] - 16s 838ms/step - loss: 0.3381 - accuracy: 0.9188 - val_loss: 0.7750 - val_accuracy: 0.7372\n",
            "Epoch 78/160\n",
            "19/19 [==============================] - 16s 834ms/step - loss: 0.3417 - accuracy: 0.9137 - val_loss: 0.7273 - val_accuracy: 0.7440\n",
            "Epoch 79/160\n",
            "19/19 [==============================] - 16s 849ms/step - loss: 0.3109 - accuracy: 0.9323 - val_loss: 0.7189 - val_accuracy: 0.7782\n",
            "Epoch 80/160\n",
            "19/19 [==============================] - 16s 859ms/step - loss: 0.3395 - accuracy: 0.9188 - val_loss: 0.7892 - val_accuracy: 0.7440\n",
            "Epoch 81/160\n",
            "19/19 [==============================] - 16s 839ms/step - loss: 0.3195 - accuracy: 0.9154 - val_loss: 0.7125 - val_accuracy: 0.7474\n",
            "Epoch 82/160\n",
            "19/19 [==============================] - 16s 835ms/step - loss: 0.2963 - accuracy: 0.9357 - val_loss: 0.7356 - val_accuracy: 0.7440\n",
            "Epoch 83/160\n",
            "19/19 [==============================] - 16s 830ms/step - loss: 0.3083 - accuracy: 0.9272 - val_loss: 0.7433 - val_accuracy: 0.7611\n",
            "Epoch 84/160\n",
            "19/19 [==============================] - 16s 871ms/step - loss: 0.2960 - accuracy: 0.9306 - val_loss: 0.7126 - val_accuracy: 0.7577\n",
            "Epoch 85/160\n",
            "19/19 [==============================] - 16s 835ms/step - loss: 0.2976 - accuracy: 0.9255 - val_loss: 0.7276 - val_accuracy: 0.7577\n",
            "Epoch 86/160\n",
            "19/19 [==============================] - 16s 836ms/step - loss: 0.2872 - accuracy: 0.9442 - val_loss: 0.7758 - val_accuracy: 0.7645\n",
            "Epoch 87/160\n",
            "19/19 [==============================] - 16s 835ms/step - loss: 0.2838 - accuracy: 0.9222 - val_loss: 0.7747 - val_accuracy: 0.7201\n",
            "Epoch 88/160\n",
            "19/19 [==============================] - 16s 833ms/step - loss: 0.2733 - accuracy: 0.9442 - val_loss: 0.7354 - val_accuracy: 0.7509\n",
            "Epoch 89/160\n",
            "19/19 [==============================] - 16s 838ms/step - loss: 0.2772 - accuracy: 0.9391 - val_loss: 0.7391 - val_accuracy: 0.7645\n",
            "Epoch 90/160\n",
            "19/19 [==============================] - 16s 831ms/step - loss: 0.2754 - accuracy: 0.9374 - val_loss: 0.7463 - val_accuracy: 0.7747\n",
            "Epoch 91/160\n",
            "19/19 [==============================] - 16s 831ms/step - loss: 0.2605 - accuracy: 0.9492 - val_loss: 0.7282 - val_accuracy: 0.7577\n",
            "Epoch 92/160\n",
            "19/19 [==============================] - 16s 858ms/step - loss: 0.2529 - accuracy: 0.9543 - val_loss: 0.7676 - val_accuracy: 0.7270\n",
            "Epoch 93/160\n",
            "19/19 [==============================] - 16s 869ms/step - loss: 0.3063 - accuracy: 0.9222 - val_loss: 0.6877 - val_accuracy: 0.7406\n",
            "Epoch 94/160\n",
            "19/19 [==============================] - 16s 826ms/step - loss: 0.2394 - accuracy: 0.9594 - val_loss: 0.7207 - val_accuracy: 0.7372\n",
            "Epoch 95/160\n",
            "19/19 [==============================] - 16s 833ms/step - loss: 0.2715 - accuracy: 0.9323 - val_loss: 0.7395 - val_accuracy: 0.7509\n",
            "Epoch 96/160\n",
            "19/19 [==============================] - 16s 830ms/step - loss: 0.2366 - accuracy: 0.9543 - val_loss: 0.7324 - val_accuracy: 0.7474\n",
            "Epoch 97/160\n",
            "19/19 [==============================] - 16s 827ms/step - loss: 0.2382 - accuracy: 0.9560 - val_loss: 0.7616 - val_accuracy: 0.7406\n",
            "Epoch 98/160\n",
            "19/19 [==============================] - 16s 826ms/step - loss: 0.2611 - accuracy: 0.9391 - val_loss: 0.7364 - val_accuracy: 0.7747\n",
            "Epoch 99/160\n",
            "19/19 [==============================] - 16s 825ms/step - loss: 0.2547 - accuracy: 0.9425 - val_loss: 0.7180 - val_accuracy: 0.7543\n",
            "Epoch 100/160\n",
            "19/19 [==============================] - 16s 824ms/step - loss: 0.2467 - accuracy: 0.9475 - val_loss: 0.7437 - val_accuracy: 0.7679\n",
            "Epoch 101/160\n",
            "19/19 [==============================] - 16s 827ms/step - loss: 0.2324 - accuracy: 0.9526 - val_loss: 0.7077 - val_accuracy: 0.7713\n",
            "Epoch 102/160\n",
            "19/19 [==============================] - 16s 868ms/step - loss: 0.2483 - accuracy: 0.9425 - val_loss: 0.7051 - val_accuracy: 0.7577\n",
            "Epoch 103/160\n",
            "19/19 [==============================] - 15s 822ms/step - loss: 0.2170 - accuracy: 0.9611 - val_loss: 0.6532 - val_accuracy: 0.7645\n",
            "Epoch 104/160\n",
            "19/19 [==============================] - 15s 827ms/step - loss: 0.2148 - accuracy: 0.9628 - val_loss: 0.7285 - val_accuracy: 0.7645\n",
            "Epoch 105/160\n",
            "19/19 [==============================] - 15s 820ms/step - loss: 0.2343 - accuracy: 0.9475 - val_loss: 0.7272 - val_accuracy: 0.7440\n",
            "Epoch 106/160\n",
            "19/19 [==============================] - 16s 825ms/step - loss: 0.2412 - accuracy: 0.9442 - val_loss: 0.7240 - val_accuracy: 0.7713\n",
            "Epoch 107/160\n",
            "19/19 [==============================] - 16s 846ms/step - loss: 0.2100 - accuracy: 0.9509 - val_loss: 0.7413 - val_accuracy: 0.7304\n",
            "Epoch 108/160\n",
            "19/19 [==============================] - 16s 827ms/step - loss: 0.2396 - accuracy: 0.9509 - val_loss: 0.7123 - val_accuracy: 0.7850\n",
            "Epoch 109/160\n",
            "19/19 [==============================] - 15s 818ms/step - loss: 0.1916 - accuracy: 0.9594 - val_loss: 0.7370 - val_accuracy: 0.7440\n",
            "Epoch 110/160\n",
            "19/19 [==============================] - 15s 820ms/step - loss: 0.2438 - accuracy: 0.9374 - val_loss: 0.7080 - val_accuracy: 0.7440\n",
            "Epoch 111/160\n",
            "19/19 [==============================] - 16s 867ms/step - loss: 0.2300 - accuracy: 0.9526 - val_loss: 0.6849 - val_accuracy: 0.7645\n",
            "Epoch 112/160\n",
            "19/19 [==============================] - 16s 840ms/step - loss: 0.1975 - accuracy: 0.9543 - val_loss: 0.7152 - val_accuracy: 0.7509\n",
            "Epoch 113/160\n",
            "19/19 [==============================] - 15s 823ms/step - loss: 0.1892 - accuracy: 0.9712 - val_loss: 0.7489 - val_accuracy: 0.7474\n",
            "Epoch 114/160\n",
            "19/19 [==============================] - 16s 823ms/step - loss: 0.2021 - accuracy: 0.9526 - val_loss: 0.6874 - val_accuracy: 0.7713\n",
            "Epoch 115/160\n",
            "19/19 [==============================] - 15s 822ms/step - loss: 0.1890 - accuracy: 0.9662 - val_loss: 0.6991 - val_accuracy: 0.7543\n",
            "Epoch 116/160\n",
            "19/19 [==============================] - 16s 834ms/step - loss: 0.1935 - accuracy: 0.9526 - val_loss: 0.7624 - val_accuracy: 0.7406\n",
            "Epoch 117/160\n",
            "19/19 [==============================] - 16s 824ms/step - loss: 0.1932 - accuracy: 0.9526 - val_loss: 0.6727 - val_accuracy: 0.7747\n",
            "Epoch 118/160\n",
            "19/19 [==============================] - 16s 825ms/step - loss: 0.2063 - accuracy: 0.9560 - val_loss: 0.7204 - val_accuracy: 0.7543\n",
            "Epoch 119/160\n",
            "19/19 [==============================] - 16s 862ms/step - loss: 0.1987 - accuracy: 0.9543 - val_loss: 0.7058 - val_accuracy: 0.7509\n",
            "Epoch 120/160\n",
            "19/19 [==============================] - 16s 828ms/step - loss: 0.1909 - accuracy: 0.9560 - val_loss: 0.6827 - val_accuracy: 0.7713\n",
            "Epoch 121/160\n",
            "19/19 [==============================] - 16s 827ms/step - loss: 0.1884 - accuracy: 0.9611 - val_loss: 0.7412 - val_accuracy: 0.7577\n",
            "Epoch 122/160\n",
            "19/19 [==============================] - 15s 826ms/step - loss: 0.1773 - accuracy: 0.9679 - val_loss: 0.7355 - val_accuracy: 0.7440\n",
            "Epoch 123/160\n",
            "19/19 [==============================] - 16s 829ms/step - loss: 0.1824 - accuracy: 0.9679 - val_loss: 0.7416 - val_accuracy: 0.7474\n",
            "Epoch 124/160\n",
            "19/19 [==============================] - 16s 834ms/step - loss: 0.1814 - accuracy: 0.9729 - val_loss: 0.7057 - val_accuracy: 0.7577\n",
            "Epoch 125/160\n",
            "19/19 [==============================] - 16s 836ms/step - loss: 0.1993 - accuracy: 0.9628 - val_loss: 0.6732 - val_accuracy: 0.7816\n",
            "Epoch 126/160\n",
            "19/19 [==============================] - 16s 831ms/step - loss: 0.1873 - accuracy: 0.9594 - val_loss: 0.7269 - val_accuracy: 0.7474\n",
            "Epoch 127/160\n",
            "19/19 [==============================] - 16s 843ms/step - loss: 0.1969 - accuracy: 0.9577 - val_loss: 0.7135 - val_accuracy: 0.7474\n",
            "Epoch 128/160\n",
            "19/19 [==============================] - 16s 869ms/step - loss: 0.1693 - accuracy: 0.9712 - val_loss: 0.6944 - val_accuracy: 0.7611\n",
            "Epoch 129/160\n",
            "19/19 [==============================] - 16s 839ms/step - loss: 0.1592 - accuracy: 0.9729 - val_loss: 0.7327 - val_accuracy: 0.7509\n",
            "Epoch 130/160\n",
            "19/19 [==============================] - 16s 858ms/step - loss: 0.1636 - accuracy: 0.9645 - val_loss: 0.7282 - val_accuracy: 0.7474\n",
            "Epoch 131/160\n",
            "19/19 [==============================] - 16s 838ms/step - loss: 0.1697 - accuracy: 0.9712 - val_loss: 0.6716 - val_accuracy: 0.7440\n",
            "Epoch 132/160\n",
            "19/19 [==============================] - 16s 838ms/step - loss: 0.1746 - accuracy: 0.9526 - val_loss: 0.6983 - val_accuracy: 0.7713\n",
            "Epoch 133/160\n",
            "19/19 [==============================] - 16s 842ms/step - loss: 0.1735 - accuracy: 0.9662 - val_loss: 0.6874 - val_accuracy: 0.7577\n",
            "Epoch 134/160\n",
            "19/19 [==============================] - 16s 835ms/step - loss: 0.1926 - accuracy: 0.9560 - val_loss: 0.6902 - val_accuracy: 0.7713\n",
            "Epoch 135/160\n",
            "19/19 [==============================] - 16s 839ms/step - loss: 0.1617 - accuracy: 0.9628 - val_loss: 0.6705 - val_accuracy: 0.7679\n",
            "Epoch 136/160\n",
            "19/19 [==============================] - 16s 848ms/step - loss: 0.1685 - accuracy: 0.9645 - val_loss: 0.6610 - val_accuracy: 0.7679\n",
            "Epoch 137/160\n",
            "19/19 [==============================] - 16s 875ms/step - loss: 0.1673 - accuracy: 0.9679 - val_loss: 0.6982 - val_accuracy: 0.7679\n",
            "Epoch 138/160\n",
            "19/19 [==============================] - 16s 844ms/step - loss: 0.1736 - accuracy: 0.9729 - val_loss: 0.7021 - val_accuracy: 0.7645\n",
            "Epoch 139/160\n",
            "19/19 [==============================] - 16s 834ms/step - loss: 0.1598 - accuracy: 0.9679 - val_loss: 0.7110 - val_accuracy: 0.7577\n",
            "Epoch 140/160\n",
            "19/19 [==============================] - 16s 824ms/step - loss: 0.1773 - accuracy: 0.9695 - val_loss: 0.7025 - val_accuracy: 0.7713\n",
            "Epoch 141/160\n",
            "19/19 [==============================] - 16s 834ms/step - loss: 0.1444 - accuracy: 0.9712 - val_loss: 0.7285 - val_accuracy: 0.7509\n",
            "Epoch 142/160\n",
            "19/19 [==============================] - 16s 840ms/step - loss: 0.1445 - accuracy: 0.9780 - val_loss: 0.6757 - val_accuracy: 0.7952\n",
            "Epoch 143/160\n",
            "19/19 [==============================] - 16s 841ms/step - loss: 0.1391 - accuracy: 0.9729 - val_loss: 0.7016 - val_accuracy: 0.7713\n",
            "Epoch 144/160\n",
            "19/19 [==============================] - 16s 831ms/step - loss: 0.1492 - accuracy: 0.9712 - val_loss: 0.6716 - val_accuracy: 0.7611\n",
            "Epoch 145/160\n",
            "19/19 [==============================] - 16s 834ms/step - loss: 0.1440 - accuracy: 0.9797 - val_loss: 0.6844 - val_accuracy: 0.7884\n",
            "Epoch 146/160\n",
            "19/19 [==============================] - 16s 879ms/step - loss: 0.1523 - accuracy: 0.9712 - val_loss: 0.7059 - val_accuracy: 0.7679\n",
            "Epoch 147/160\n",
            "19/19 [==============================] - 16s 837ms/step - loss: 0.1561 - accuracy: 0.9695 - val_loss: 0.6853 - val_accuracy: 0.7645\n",
            "Epoch 148/160\n",
            "19/19 [==============================] - 16s 841ms/step - loss: 0.1595 - accuracy: 0.9695 - val_loss: 0.7072 - val_accuracy: 0.7577\n",
            "Epoch 149/160\n",
            "19/19 [==============================] - 16s 834ms/step - loss: 0.1385 - accuracy: 0.9746 - val_loss: 0.6891 - val_accuracy: 0.7474\n",
            "Epoch 150/160\n",
            "19/19 [==============================] - 16s 837ms/step - loss: 0.1385 - accuracy: 0.9729 - val_loss: 0.7131 - val_accuracy: 0.7645\n",
            "Epoch 151/160\n",
            "19/19 [==============================] - 16s 841ms/step - loss: 0.1313 - accuracy: 0.9814 - val_loss: 0.7018 - val_accuracy: 0.7884\n",
            "Epoch 152/160\n",
            "19/19 [==============================] - 16s 837ms/step - loss: 0.1498 - accuracy: 0.9679 - val_loss: 0.6870 - val_accuracy: 0.7713\n",
            "Epoch 153/160\n",
            "19/19 [==============================] - 16s 836ms/step - loss: 0.1275 - accuracy: 0.9882 - val_loss: 0.6942 - val_accuracy: 0.7611\n",
            "Epoch 154/160\n",
            "19/19 [==============================] - 16s 873ms/step - loss: 0.1247 - accuracy: 0.9848 - val_loss: 0.7216 - val_accuracy: 0.7611\n",
            "Epoch 155/160\n",
            "19/19 [==============================] - 16s 827ms/step - loss: 0.1514 - accuracy: 0.9645 - val_loss: 0.6856 - val_accuracy: 0.7918\n",
            "Epoch 156/160\n",
            "19/19 [==============================] - 16s 831ms/step - loss: 0.1369 - accuracy: 0.9763 - val_loss: 0.6871 - val_accuracy: 0.7747\n",
            "Epoch 157/160\n",
            "19/19 [==============================] - 16s 841ms/step - loss: 0.1371 - accuracy: 0.9780 - val_loss: 0.7413 - val_accuracy: 0.7440\n",
            "Epoch 158/160\n",
            "19/19 [==============================] - 16s 833ms/step - loss: 0.1171 - accuracy: 0.9831 - val_loss: 0.7039 - val_accuracy: 0.7474\n",
            "Epoch 159/160\n",
            "19/19 [==============================] - 16s 828ms/step - loss: 0.1144 - accuracy: 0.9848 - val_loss: 0.6969 - val_accuracy: 0.7782\n",
            "Epoch 160/160\n",
            "19/19 [==============================] - 16s 825ms/step - loss: 0.1348 - accuracy: 0.9746 - val_loss: 0.7130 - val_accuracy: 0.7850\n"
          ]
        }
      ],
      "source": [
        "from tensorflow.keras.optimizers import Adam\n",
        "from tensorflow.keras.callbacks import EarlyStopping\n",
        "\n",
        "model.compile(loss='categorical_crossentropy',\n",
        "              optimizer=Adam(lr=0.00001),\n",
        "              metrics=['accuracy'])\n",
        "\n",
        "results = model.fit(train_image_gen,epochs=160, validation_data=val_image_gen)"
      ]
    },
    {
      "cell_type": "markdown",
      "source": [
        "The results of the training model are stored in the dataframe"
      ],
      "metadata": {
        "id": "bqGs-WTXJvIJ"
      },
      "id": "bqGs-WTXJvIJ"
    },
    {
      "cell_type": "code",
      "execution_count": null,
      "id": "944e61bd",
      "metadata": {
        "execution": {
          "iopub.execute_input": "2022-08-28T08:28:05.242339Z",
          "iopub.status.busy": "2022-08-28T08:28:05.241837Z",
          "iopub.status.idle": "2022-08-28T08:28:05.268372Z",
          "shell.execute_reply": "2022-08-28T08:28:05.267271Z"
        },
        "papermill": {
          "duration": 0.2047,
          "end_time": "2022-08-28T08:28:05.270519",
          "exception": false,
          "start_time": "2022-08-28T08:28:05.065819",
          "status": "completed"
        },
        "tags": [],
        "id": "944e61bd",
        "colab": {
          "base_uri": "https://localhost:8080/",
          "height": 424
        },
        "outputId": "d4b48f12-cf60-4e6b-b7f6-e7c412076e63"
      },
      "outputs": [
        {
          "output_type": "execute_result",
          "data": {
            "text/plain": [
              "         loss  accuracy  val_loss  val_accuracy\n",
              "0    2.483545  0.108291  2.129846      0.194539\n",
              "1    2.282851  0.170897  2.007663      0.300341\n",
              "2    2.164547  0.216582  1.891778      0.375427\n",
              "3    1.965106  0.277496  1.793824      0.419795\n",
              "4    1.834131  0.340102  1.737200      0.447099\n",
              "..        ...       ...       ...           ...\n",
              "155  0.136893  0.976311  0.687109      0.774744\n",
              "156  0.137068  0.978003  0.741318      0.744027\n",
              "157  0.117092  0.983080  0.703900      0.747440\n",
              "158  0.114410  0.984772  0.696882      0.778157\n",
              "159  0.134787  0.974619  0.712997      0.784983\n",
              "\n",
              "[160 rows x 4 columns]"
            ],
            "text/html": [
              "\n",
              "  <div id=\"df-e53e768c-5a4e-4a29-8fb8-0257926a3387\">\n",
              "    <div class=\"colab-df-container\">\n",
              "      <div>\n",
              "<style scoped>\n",
              "    .dataframe tbody tr th:only-of-type {\n",
              "        vertical-align: middle;\n",
              "    }\n",
              "\n",
              "    .dataframe tbody tr th {\n",
              "        vertical-align: top;\n",
              "    }\n",
              "\n",
              "    .dataframe thead th {\n",
              "        text-align: right;\n",
              "    }\n",
              "</style>\n",
              "<table border=\"1\" class=\"dataframe\">\n",
              "  <thead>\n",
              "    <tr style=\"text-align: right;\">\n",
              "      <th></th>\n",
              "      <th>loss</th>\n",
              "      <th>accuracy</th>\n",
              "      <th>val_loss</th>\n",
              "      <th>val_accuracy</th>\n",
              "    </tr>\n",
              "  </thead>\n",
              "  <tbody>\n",
              "    <tr>\n",
              "      <th>0</th>\n",
              "      <td>2.483545</td>\n",
              "      <td>0.108291</td>\n",
              "      <td>2.129846</td>\n",
              "      <td>0.194539</td>\n",
              "    </tr>\n",
              "    <tr>\n",
              "      <th>1</th>\n",
              "      <td>2.282851</td>\n",
              "      <td>0.170897</td>\n",
              "      <td>2.007663</td>\n",
              "      <td>0.300341</td>\n",
              "    </tr>\n",
              "    <tr>\n",
              "      <th>2</th>\n",
              "      <td>2.164547</td>\n",
              "      <td>0.216582</td>\n",
              "      <td>1.891778</td>\n",
              "      <td>0.375427</td>\n",
              "    </tr>\n",
              "    <tr>\n",
              "      <th>3</th>\n",
              "      <td>1.965106</td>\n",
              "      <td>0.277496</td>\n",
              "      <td>1.793824</td>\n",
              "      <td>0.419795</td>\n",
              "    </tr>\n",
              "    <tr>\n",
              "      <th>4</th>\n",
              "      <td>1.834131</td>\n",
              "      <td>0.340102</td>\n",
              "      <td>1.737200</td>\n",
              "      <td>0.447099</td>\n",
              "    </tr>\n",
              "    <tr>\n",
              "      <th>...</th>\n",
              "      <td>...</td>\n",
              "      <td>...</td>\n",
              "      <td>...</td>\n",
              "      <td>...</td>\n",
              "    </tr>\n",
              "    <tr>\n",
              "      <th>155</th>\n",
              "      <td>0.136893</td>\n",
              "      <td>0.976311</td>\n",
              "      <td>0.687109</td>\n",
              "      <td>0.774744</td>\n",
              "    </tr>\n",
              "    <tr>\n",
              "      <th>156</th>\n",
              "      <td>0.137068</td>\n",
              "      <td>0.978003</td>\n",
              "      <td>0.741318</td>\n",
              "      <td>0.744027</td>\n",
              "    </tr>\n",
              "    <tr>\n",
              "      <th>157</th>\n",
              "      <td>0.117092</td>\n",
              "      <td>0.983080</td>\n",
              "      <td>0.703900</td>\n",
              "      <td>0.747440</td>\n",
              "    </tr>\n",
              "    <tr>\n",
              "      <th>158</th>\n",
              "      <td>0.114410</td>\n",
              "      <td>0.984772</td>\n",
              "      <td>0.696882</td>\n",
              "      <td>0.778157</td>\n",
              "    </tr>\n",
              "    <tr>\n",
              "      <th>159</th>\n",
              "      <td>0.134787</td>\n",
              "      <td>0.974619</td>\n",
              "      <td>0.712997</td>\n",
              "      <td>0.784983</td>\n",
              "    </tr>\n",
              "  </tbody>\n",
              "</table>\n",
              "<p>160 rows × 4 columns</p>\n",
              "</div>\n",
              "      <button class=\"colab-df-convert\" onclick=\"convertToInteractive('df-e53e768c-5a4e-4a29-8fb8-0257926a3387')\"\n",
              "              title=\"Convert this dataframe to an interactive table.\"\n",
              "              style=\"display:none;\">\n",
              "        \n",
              "  <svg xmlns=\"http://www.w3.org/2000/svg\" height=\"24px\"viewBox=\"0 0 24 24\"\n",
              "       width=\"24px\">\n",
              "    <path d=\"M0 0h24v24H0V0z\" fill=\"none\"/>\n",
              "    <path d=\"M18.56 5.44l.94 2.06.94-2.06 2.06-.94-2.06-.94-.94-2.06-.94 2.06-2.06.94zm-11 1L8.5 8.5l.94-2.06 2.06-.94-2.06-.94L8.5 2.5l-.94 2.06-2.06.94zm10 10l.94 2.06.94-2.06 2.06-.94-2.06-.94-.94-2.06-.94 2.06-2.06.94z\"/><path d=\"M17.41 7.96l-1.37-1.37c-.4-.4-.92-.59-1.43-.59-.52 0-1.04.2-1.43.59L10.3 9.45l-7.72 7.72c-.78.78-.78 2.05 0 2.83L4 21.41c.39.39.9.59 1.41.59.51 0 1.02-.2 1.41-.59l7.78-7.78 2.81-2.81c.8-.78.8-2.07 0-2.86zM5.41 20L4 18.59l7.72-7.72 1.47 1.35L5.41 20z\"/>\n",
              "  </svg>\n",
              "      </button>\n",
              "      \n",
              "  <style>\n",
              "    .colab-df-container {\n",
              "      display:flex;\n",
              "      flex-wrap:wrap;\n",
              "      gap: 12px;\n",
              "    }\n",
              "\n",
              "    .colab-df-convert {\n",
              "      background-color: #E8F0FE;\n",
              "      border: none;\n",
              "      border-radius: 50%;\n",
              "      cursor: pointer;\n",
              "      display: none;\n",
              "      fill: #1967D2;\n",
              "      height: 32px;\n",
              "      padding: 0 0 0 0;\n",
              "      width: 32px;\n",
              "    }\n",
              "\n",
              "    .colab-df-convert:hover {\n",
              "      background-color: #E2EBFA;\n",
              "      box-shadow: 0px 1px 2px rgba(60, 64, 67, 0.3), 0px 1px 3px 1px rgba(60, 64, 67, 0.15);\n",
              "      fill: #174EA6;\n",
              "    }\n",
              "\n",
              "    [theme=dark] .colab-df-convert {\n",
              "      background-color: #3B4455;\n",
              "      fill: #D2E3FC;\n",
              "    }\n",
              "\n",
              "    [theme=dark] .colab-df-convert:hover {\n",
              "      background-color: #434B5C;\n",
              "      box-shadow: 0px 1px 3px 1px rgba(0, 0, 0, 0.15);\n",
              "      filter: drop-shadow(0px 1px 2px rgba(0, 0, 0, 0.3));\n",
              "      fill: #FFFFFF;\n",
              "    }\n",
              "  </style>\n",
              "\n",
              "      <script>\n",
              "        const buttonEl =\n",
              "          document.querySelector('#df-e53e768c-5a4e-4a29-8fb8-0257926a3387 button.colab-df-convert');\n",
              "        buttonEl.style.display =\n",
              "          google.colab.kernel.accessAllowed ? 'block' : 'none';\n",
              "\n",
              "        async function convertToInteractive(key) {\n",
              "          const element = document.querySelector('#df-e53e768c-5a4e-4a29-8fb8-0257926a3387');\n",
              "          const dataTable =\n",
              "            await google.colab.kernel.invokeFunction('convertToInteractive',\n",
              "                                                     [key], {});\n",
              "          if (!dataTable) return;\n",
              "\n",
              "          const docLinkHtml = 'Like what you see? Visit the ' +\n",
              "            '<a target=\"_blank\" href=https://colab.research.google.com/notebooks/data_table.ipynb>data table notebook</a>'\n",
              "            + ' to learn more about interactive tables.';\n",
              "          element.innerHTML = '';\n",
              "          dataTable['output_type'] = 'display_data';\n",
              "          await google.colab.output.renderOutput(dataTable, element);\n",
              "          const docLink = document.createElement('div');\n",
              "          docLink.innerHTML = docLinkHtml;\n",
              "          element.appendChild(docLink);\n",
              "        }\n",
              "      </script>\n",
              "    </div>\n",
              "  </div>\n",
              "  "
            ]
          },
          "metadata": {},
          "execution_count": 15
        }
      ],
      "source": [
        "plot_df = pd.DataFrame(model.history.history)\n",
        "plot_df"
      ]
    },
    {
      "cell_type": "markdown",
      "source": [
        "Plotting the results of the training model"
      ],
      "metadata": {
        "id": "mxRVicdpJNNv"
      },
      "id": "mxRVicdpJNNv"
    },
    {
      "cell_type": "code",
      "execution_count": null,
      "id": "d06dec73",
      "metadata": {
        "execution": {
          "iopub.execute_input": "2022-08-28T08:28:05.620369Z",
          "iopub.status.busy": "2022-08-28T08:28:05.619951Z",
          "iopub.status.idle": "2022-08-28T08:28:05.883056Z",
          "shell.execute_reply": "2022-08-28T08:28:05.882076Z"
        },
        "papermill": {
          "duration": 0.439599,
          "end_time": "2022-08-28T08:28:05.885343",
          "exception": false,
          "start_time": "2022-08-28T08:28:05.445744",
          "status": "completed"
        },
        "tags": [],
        "id": "d06dec73",
        "colab": {
          "base_uri": "https://localhost:8080/",
          "height": 590
        },
        "outputId": "33310763-3744-4879-d34c-bda4a59390d7"
      },
      "outputs": [
        {
          "output_type": "display_data",
          "data": {
            "text/plain": [
              "<Figure size 720x288 with 1 Axes>"
            ],
            "image/png": "[encoded data removed]"
          },
          "metadata": {
            "needs_background": "light"
          }
        },
        {
          "output_type": "stream",
          "name": "stdout",
          "text": [
            "\n"
          ]
        },
        {
          "output_type": "display_data",
          "data": {
            "text/plain": [
              "<Figure size 720x288 with 1 Axes>"
            ],
            "image/png": "[encoded data removed]"
          },
          "metadata": {
            "needs_background": "light"
          }
        }
      ],
      "source": [
        "# Membuat plot akurasi model\n",
        "plt.figure(figsize=(10,4))\n",
        "plt.plot(results.history['accuracy'])\n",
        "plt.plot(results.history['val_accuracy'])\n",
        "plt.title('VGG16 model accuracy')\n",
        "plt.ylabel('accuracy')\n",
        "plt.xlabel('epoch')\n",
        "plt.legend(['train_accuracy', 'val_accuracy'], loc='upper left')\n",
        "plt.grid(True)\n",
        "plt.show()\n",
        "\n",
        "print()\n",
        "\n",
        "# Membuat plot loss model\n",
        "plt.figure(figsize=(10,4))\n",
        "plt.plot(results.history['loss'])\n",
        "plt.plot(results.history['val_loss'])\n",
        "plt.title('VGG16 model loss')\n",
        "plt.ylabel('loss')\n",
        "plt.xlabel('epoch')\n",
        "plt.legend(['train_loss', 'val_loss'], loc='upper left')\n",
        "plt.grid(True)\n",
        "plt.show()"
      ]
    },
    {
      "cell_type": "code",
      "execution_count": null,
      "id": "17097631",
      "metadata": {
        "execution": {
          "iopub.execute_input": "2022-08-28T08:28:06.876742Z",
          "iopub.status.busy": "2022-08-28T08:28:06.876375Z",
          "iopub.status.idle": "2022-08-28T08:28:10.779771Z",
          "shell.execute_reply": "2022-08-28T08:28:10.778709Z"
        },
        "papermill": {
          "duration": 4.081847,
          "end_time": "2022-08-28T08:28:10.783092",
          "exception": false,
          "start_time": "2022-08-28T08:28:06.701245",
          "status": "completed"
        },
        "tags": [],
        "id": "17097631",
        "colab": {
          "base_uri": "https://localhost:8080/"
        },
        "outputId": "7f893405-cc32-4fae-d66c-7b0dbbd40695"
      },
      "outputs": [
        {
          "output_type": "stream",
          "name": "stdout",
          "text": [
            "Test Accuracy : 84.40%\n",
            "    Test Loss : 48.97%\n"
          ]
        }
      ],
      "source": [
        "#we can test our model on testing data\n",
        "results = model.evaluate(test_image_gen, verbose=0)\n",
        "\n",
        "print(\"Test Accuracy : {:.2f}%\".format(results[1] * 100))\n",
        "print(\"    Test Loss : {:.2f}%\".format(results[0] * 100))"
      ]
    },
    {
      "cell_type": "markdown",
      "source": [
        "# Classification Metrics"
      ],
      "metadata": {
        "id": "LCCoXLMY4dy5"
      },
      "id": "LCCoXLMY4dy5"
    },
    {
      "cell_type": "code",
      "execution_count": null,
      "id": "3152f9db",
      "metadata": {
        "execution": {
          "iopub.execute_input": "2022-08-28T08:28:11.135155Z",
          "iopub.status.busy": "2022-08-28T08:28:11.134416Z",
          "iopub.status.idle": "2022-08-28T08:28:13.952358Z",
          "shell.execute_reply": "2022-08-28T08:28:13.951114Z"
        },
        "papermill": {
          "duration": 2.99864,
          "end_time": "2022-08-28T08:28:13.955479",
          "exception": false,
          "start_time": "2022-08-28T08:28:10.956839",
          "status": "completed"
        },
        "tags": [],
        "id": "3152f9db",
        "colab": {
          "base_uri": "https://localhost:8080/"
        },
        "outputId": "7775eda7-4539-4ff2-f0ac-d70f0f724e4f"
      },
      "outputs": [
        {
          "output_type": "stream",
          "name": "stdout",
          "text": [
            "                 precision    recall  f1-score   support\n",
            "\n",
            "    ayam_goreng       0.75      0.82      0.78        11\n",
            "       ayam_pop       0.80      0.92      0.86        13\n",
            " daging_rendang       0.67      0.73      0.70        11\n",
            "dendeng_batokok       0.80      0.67      0.73        12\n",
            "     gulai_ikan       0.73      0.67      0.70        12\n",
            "  gulai_tambusu       0.90      0.75      0.82        12\n",
            "  gulai_tunjang       0.64      0.69      0.67        13\n",
            "   telur_balado       0.77      0.83      0.80        12\n",
            "    telur_dadar       1.00      0.92      0.96        13\n",
            "\n",
            "       accuracy                           0.78       109\n",
            "      macro avg       0.78      0.78      0.78       109\n",
            "   weighted avg       0.79      0.78      0.78       109\n",
            "\n"
          ]
        }
      ],
      "source": [
        "predictions = np.argmax(model.predict(test_image_gen), axis = -1)\n",
        "predictions\n",
        "from sklearn.metrics import classification_report, confusion_matrix\n",
        "print(classification_report(test_image_gen.classes,predictions,target_names=['ayam_goreng', 'ayam_pop', 'daging_rendang', 'dendeng_batokok', 'gulai_ikan', 'gulai_tambusu', 'gulai_tunjang', 'telur_balado', 'telur_dadar']))"
      ]
    },
    {
      "cell_type": "code",
      "execution_count": null,
      "id": "47e35dc0",
      "metadata": {
        "execution": {
          "iopub.execute_input": "2022-08-28T08:28:14.306664Z",
          "iopub.status.busy": "2022-08-28T08:28:14.306075Z",
          "iopub.status.idle": "2022-08-28T08:28:14.998160Z",
          "shell.execute_reply": "2022-08-28T08:28:14.997189Z"
        },
        "papermill": {
          "duration": 0.870764,
          "end_time": "2022-08-28T08:28:15.000503",
          "exception": false,
          "start_time": "2022-08-28T08:28:14.129739",
          "status": "completed"
        },
        "tags": [],
        "id": "47e35dc0",
        "colab": {
          "base_uri": "https://localhost:8080/",
          "height": 544
        },
        "outputId": "bbedcca9-2f62-4fc2-f817-4f3c1628556a"
      },
      "outputs": [
        {
          "output_type": "stream",
          "name": "stdout",
          "text": [
            "Confusion matrix\n"
          ]
        },
        {
          "output_type": "display_data",
          "data": {
            "text/plain": [
              "<Figure size 720x504 with 2 Axes>"
            ],
            "image/png": "[encoded data removed]"
          },
          "metadata": {
            "needs_background": "light"
          }
        }
      ],
      "source": [
        "import itertools\n",
        "def plot_confusion_matrix(cm, classes,\n",
        "                          normalize=False,\n",
        "                          title='Confusion Matrix Classification Padang Cuisine Image',\n",
        "                          cmap=plt.cm.OrRd):\n",
        "    if normalize:\n",
        "        cm = cm.astype('float') / cm.sum(axis=1)[:, np.newaxis]\n",
        "        print(\"Normalized confusion matrix\")\n",
        "    else:\n",
        "        print('Confusion matrix')\n",
        "\n",
        "    #print(cm)\n",
        "    plt.rcParams['figure.figsize'] = (10.0, 7.0)\n",
        "    plt.imshow(cm, interpolation='nearest', cmap=cmap)\n",
        "    plt.title(title, fontsize = 13)\n",
        "    plt.colorbar()\n",
        "    tick_marks = np.arange(len(classes))\n",
        "    plt.xticks(tick_marks, classes, rotation=90)\n",
        "    plt.yticks(tick_marks, classes)\n",
        "\n",
        "    fmt = '.2f' if normalize else 'd'\n",
        "    thresh = cm.max() / 2.\n",
        "    for i, j in itertools.product(range(cm.shape[0]), range(cm.shape[1])):\n",
        "        plt.text(j, i, format(cm[i, j], fmt),\n",
        "                 horizontalalignment=\"center\",\n",
        "                 color=\"white\" if cm[i, j] > thresh else \"black\")\n",
        "\n",
        "    plt.tight_layout()\n",
        "    plt.ylabel('True label')\n",
        "    plt.xlabel('Predicted label')\n",
        "\n",
        "cnf_matrix=confusion_matrix(test_image_gen.classes,predictions)\n",
        "plot_confusion_matrix(cnf_matrix, classes=test_image_gen.class_indices)"
      ]
    },
    {
      "cell_type": "markdown",
      "source": [
        "# Testing Model with Data Test\n",
        "After getting a model with good performance, it can be tested to recognize images of Padang cuisine."
      ],
      "metadata": {
        "id": "C3Xsfr6LUKka"
      },
      "id": "C3Xsfr6LUKka"
    },
    {
      "cell_type": "code",
      "source": [
        "# Display class list or image labels\n",
        "\n",
        "train_image_gen.class_indices"
      ],
      "metadata": {
        "id": "gMjGjtdATv4B",
        "colab": {
          "base_uri": "https://localhost:8080/"
        },
        "outputId": "64e01fdd-7d41-4e86-e2f0-0839b67df323"
      },
      "id": "gMjGjtdATv4B",
      "execution_count": null,
      "outputs": [
        {
          "output_type": "execute_result",
          "data": {
            "text/plain": [
              "{'ayam_goreng': 0,\n",
              " 'ayam_pop': 1,\n",
              " 'daging_rendang': 2,\n",
              " 'dendeng_batokok': 3,\n",
              " 'gulai_ikan': 4,\n",
              " 'gulai_tambusu': 5,\n",
              " 'gulai_tunjang': 6,\n",
              " 'telur_balado': 7,\n",
              " 'telur_dadar': 8}"
            ]
          },
          "metadata": {},
          "execution_count": 20
        }
      ]
    },
    {
      "cell_type": "code",
      "source": [
        "# Testing Model with Data Test\n",
        "\n",
        "from google.colab import files\n",
        "import numpy as np\n",
        "from keras.preprocessing import image\n",
        "%matplotlib inline\n",
        "\n",
        " \n",
        "uploaded = files.upload()\n",
        " \n",
        "for fn in uploaded.keys():\n",
        " \n",
        "  # predicting images\n",
        "  path = fn\n",
        "  img = image.load_img(path, target_size=(224,224))\n",
        "  imgplot = plt.imshow(img)\n",
        "  x = image.img_to_array(img)\n",
        "  x = np.expand_dims(x, axis=0)\n",
        " \n",
        "  images = np.vstack([x])\n",
        "  classes = model.predict(images, batch_size=32)\n",
        "  classes = np.argmax(classes)\n",
        "  \n",
        "  print(fn)\n",
        "  print('\\n')\n",
        "  if classes==0:\n",
        "    print('Prediction : Ayam Goreng')\n",
        "  elif classes==1:\n",
        "    print('Prediction : Ayam Pop')\n",
        "  elif classes==2:\n",
        "    print('Prediction : Daging Rendang')\n",
        "  elif classes==3:\n",
        "    print('Prediction : Dendeng Batokok')\n",
        "  elif classes==4:\n",
        "    print('Prediction : Gulai Ikan')\n",
        "  elif classes==5:\n",
        "    print('Prediction : Gulai Tambusu')\n",
        "  elif classes==6:\n",
        "    print('Prediction : Gulai Tunjang')\n",
        "  elif classes==7:\n",
        "    print('Prediction : Telur Balado')\n",
        "  else:\n",
        "    print('Prediction : Telur Dadar')"
      ],
      "metadata": {
        "id": "G2L4YV6dUt7G",
        "colab": {
          "base_uri": "https://localhost:8080/",
          "height": 394
        },
        "outputId": "131d2384-efc3-4b04-96e3-b5ffe176d128"
      },
      "id": "G2L4YV6dUt7G",
      "execution_count": null,
      "outputs": [
        {
          "output_type": "display_data",
          "data": {
            "text/plain": [
              "<IPython.core.display.HTML object>"
            ],
            "text/html": [
              "\n",
              "     <input type=\"file\" id=\"files-be3f184a-42de-4919-aba9-9cc17ad58777\" name=\"files[]\" multiple disabled\n",
              "        style=\"border:none\" />\n",
              "     <output id=\"result-be3f184a-42de-4919-aba9-9cc17ad58777\">\n",
              "      Upload widget is only available when the cell has been executed in the\n",
              "      current browser session. Please rerun this cell to enable.\n",
              "      </output>\n",
              "      <script>// Copyright 2017 Google LLC\n",
              "//\n",
              "// Licensed under the Apache License, Version 2.0 (the \"License\");\n",
              "// you may not use this file except in compliance with the License.\n",
              "// You may obtain a copy of the License at\n",
              "//\n",
              "//      http://www.apache.org/licenses/LICENSE-2.0\n",
              "//\n",
              "// Unless required by applicable law or agreed to in writing, software\n",
              "// distributed under the License is distributed on an \"AS IS\" BASIS,\n",
              "// WITHOUT WARRANTIES OR CONDITIONS OF ANY KIND, either express or implied.\n",
              "// See the License for the specific language governing permissions and\n",
              "// limitations under the License.\n",
              "\n",
              "/**\n",
              " * @fileoverview Helpers for google.colab Python module.\n",
              " */\n",
              "(function(scope) {\n",
              "function span(text, styleAttributes = {}) {\n",
              "  const element = document.createElement('span');\n",
              "  element.textContent = text;\n",
              "  for (const key of Object.keys(styleAttributes)) {\n",
              "    element.style[key] = styleAttributes[key];\n",
              "  }\n",
              "  return element;\n",
              "}\n",
              "\n",
              "// Max number of bytes which will be uploaded at a time.\n",
              "const MAX_PAYLOAD_SIZE = 100 * 1024;\n",
              "\n",
              "function _uploadFiles(inputId, outputId) {\n",
              "  const steps = uploadFilesStep(inputId, outputId);\n",
              "  const outputElement = document.getElementById(outputId);\n",
              "  // Cache steps on the outputElement to make it available for the next call\n",
              "  // to uploadFilesContinue from Python.\n",
              "  outputElement.steps = steps;\n",
              "\n",
              "  return _uploadFilesContinue(outputId);\n",
              "}\n",
              "\n",
              "// This is roughly an async generator (not supported in the browser yet),\n",
              "// where there are multiple asynchronous steps and the Python side is going\n",
              "// to poll for completion of each step.\n",
              "// This uses a Promise to block the python side on completion of each step,\n",
              "// then passes the result of the previous step as the input to the next step.\n",
              "function _uploadFilesContinue(outputId) {\n",
              "  const outputElement = document.getElementById(outputId);\n",
              "  const steps = outputElement.steps;\n",
              "\n",
              "  const next = steps.next(outputElement.lastPromiseValue);\n",
              "  return Promise.resolve(next.value.promise).then((value) => {\n",
              "    // Cache the last promise value to make it available to the next\n",
              "    // step of the generator.\n",
              "    outputElement.lastPromiseValue = value;\n",
              "    return next.value.response;\n",
              "  });\n",
              "}\n",
              "\n",
              "/**\n",
              " * Generator function which is called between each async step of the upload\n",
              " * process.\n",
              " * @param {string} inputId Element ID of the input file picker element.\n",
              " * @param {string} outputId Element ID of the output display.\n",
              " * @return {!Iterable<!Object>} Iterable of next steps.\n",
              " */\n",
              "function* uploadFilesStep(inputId, outputId) {\n",
              "  const inputElement = document.getElementById(inputId);\n",
              "  inputElement.disabled = false;\n",
              "\n",
              "  const outputElement = document.getElementById(outputId);\n",
              "  outputElement.innerHTML = '';\n",
              "\n",
              "  const pickedPromise = new Promise((resolve) => {\n",
              "    inputElement.addEventListener('change', (e) => {\n",
              "      resolve(e.target.files);\n",
              "    });\n",
              "  });\n",
              "\n",
              "  const cancel = document.createElement('button');\n",
              "  inputElement.parentElement.appendChild(cancel);\n",
              "  cancel.textContent = 'Cancel upload';\n",
              "  const cancelPromise = new Promise((resolve) => {\n",
              "    cancel.onclick = () => {\n",
              "      resolve(null);\n",
              "    };\n",
              "  });\n",
              "\n",
              "  // Wait for the user to pick the files.\n",
              "  const files = yield {\n",
              "    promise: Promise.race([pickedPromise, cancelPromise]),\n",
              "    response: {\n",
              "      action: 'starting',\n",
              "    }\n",
              "  };\n",
              "\n",
              "  cancel.remove();\n",
              "\n",
              "  // Disable the input element since further picks are not allowed.\n",
              "  inputElement.disabled = true;\n",
              "\n",
              "  if (!files) {\n",
              "    return {\n",
              "      response: {\n",
              "        action: 'complete',\n",
              "      }\n",
              "    };\n",
              "  }\n",
              "\n",
              "  for (const file of files) {\n",
              "    const li = document.createElement('li');\n",
              "    li.append(span(file.name, {fontWeight: 'bold'}));\n",
              "    li.append(span(\n",
              "        `(${file.type || 'n/a'}) - ${file.size} bytes, ` +\n",
              "        `last modified: ${\n",
              "            file.lastModifiedDate ? file.lastModifiedDate.toLocaleDateString() :\n",
              "                                    'n/a'} - `));\n",
              "    const percent = span('0% done');\n",
              "    li.appendChild(percent);\n",
              "\n",
              "    outputElement.appendChild(li);\n",
              "\n",
              "    const fileDataPromise = new Promise((resolve) => {\n",
              "      const reader = new FileReader();\n",
              "      reader.onload = (e) => {\n",
              "        resolve(e.target.result);\n",
              "      };\n",
              "      reader.readAsArrayBuffer(file);\n",
              "    });\n",
              "    // Wait for the data to be ready.\n",
              "    let fileData = yield {\n",
              "      promise: fileDataPromise,\n",
              "      response: {\n",
              "        action: 'continue',\n",
              "      }\n",
              "    };\n",
              "\n",
              "    // Use a chunked sending to avoid message size limits. See b/62115660.\n",
              "    let position = 0;\n",
              "    do {\n",
              "      const length = Math.min(fileData.byteLength - position, MAX_PAYLOAD_SIZE);\n",
              "      const chunk = new Uint8Array(fileData, position, length);\n",
              "      position += length;\n",
              "\n",
              "      const base64 = btoa(String.fromCharCode.apply(null, chunk));\n",
              "      yield {\n",
              "        response: {\n",
              "          action: 'append',\n",
              "          file: file.name,\n",
              "          data: base64,\n",
              "        },\n",
              "      };\n",
              "\n",
              "      let percentDone = fileData.byteLength === 0 ?\n",
              "          100 :\n",
              "          Math.round((position / fileData.byteLength) * 100);\n",
              "      percent.textContent = `${percentDone}% done`;\n",
              "\n",
              "    } while (position < fileData.byteLength);\n",
              "  }\n",
              "\n",
              "  // All done.\n",
              "  yield {\n",
              "    response: {\n",
              "      action: 'complete',\n",
              "    }\n",
              "  };\n",
              "}\n",
              "\n",
              "scope.google = scope.google || {};\n",
              "scope.google.colab = scope.google.colab || {};\n",
              "scope.google.colab._files = {\n",
              "  _uploadFiles,\n",
              "  _uploadFilesContinue,\n",
              "};\n",
              "})(self);\n",
              "</script> "
            ]
          },
          "metadata": {}
        },
        {
          "output_type": "stream",
          "name": "stdout",
          "text": [
            "Saving daging_rendang (95).jpg to daging_rendang (95).jpg\n",
            "daging_rendang (95).jpg\n",
            "\n",
            "\n",
            "Prediction : Daging Rendang\n"
          ]
        },
        {
          "output_type": "display_data",
          "data": {
            "text/plain": [
              "<Figure size 432x288 with 1 Axes>"
            ],
            "image/png": "[encoded data removed]"
          },
          "metadata": {
            "needs_background": "light"
          }
        }
      ]
    },
    {
      "cell_type": "markdown",
      "source": [
        "# Deployment\n",
        "\n",
        "So that later it can be implemented or further developed, the model needs to be deployed first in HDF5, TFLite (Mobile) or TensorflowJS (Website) format."
      ],
      "metadata": {
        "id": "ptxfb0WWZ2hs"
      },
      "id": "ptxfb0WWZ2hs"
    },
    {
      "cell_type": "code",
      "source": [
        "# save model in HDF5 format\n",
        "\n",
        "model.save('HDF5_ModelVGG166_Classification_Padang.h5')"
      ],
      "metadata": {
        "id": "DyVdC8I9ZzXI"
      },
      "id": "DyVdC8I9ZzXI",
      "execution_count": null,
      "outputs": []
    },
    {
      "cell_type": "code",
      "source": [
        "# save model in TFLite format\n",
        "\n",
        "import tensorflow as tf\n",
        "\n",
        "converter = tf.lite.TFLiteConverter.from_keras_model(model)\n",
        "tflite_model = converter.convert()\n",
        "with tf.io.gfile.GFile('TFLite_ModelVGG166_Classification_Padang.tflite', 'wb') as f:\n",
        "  f.write(tflite_model)"
      ],
      "metadata": {
        "id": "UqDIRLwZairn"
      },
      "id": "UqDIRLwZairn",
      "execution_count": null,
      "outputs": []
    }
  ],
  "metadata": {
    "kernelspec": {
      "display_name": "Python 3",
      "language": "python",
      "name": "python3"
    },
    "language_info": {
      "codemirror_mode": {
        "name": "ipython",
        "version": 3
      },
      "file_extension": ".py",
      "mimetype": "text/x-python",
      "name": "python",
      "nbconvert_exporter": "python",
      "pygments_lexer": "ipython3",
      "version": "3.7.12"
    },
    "papermill": {
      "default_parameters": {},
      "duration": 2636.629013,
      "end_time": "2022-08-28T08:28:18.175380",
      "environment_variables": {},
      "exception": null,
      "input_path": "__notebook__.ipynb",
      "output_path": "__notebook__.ipynb",
      "parameters": {},
      "start_time": "2022-08-28T07:44:21.546367",
      "version": "2.3.4"
    },
    "colab": {
      "provenance": [],
      "collapsed_sections": [],
      "include_colab_link": true
    },
    "accelerator": "GPU",
    "gpuClass": "standard"
  },
  "nbformat": 4,
  "nbformat_minor": 5
}