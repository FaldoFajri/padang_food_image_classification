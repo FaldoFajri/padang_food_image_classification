{
  "cells": [
    {
      "cell_type": "markdown",
      "metadata": {
        "id": "view-in-github",
        "colab_type": "text"
      },
      "source": [
        "<a href=\"https://colab.research.google.com/github/FaldoFajri/padang_food_image_classification/blob/main/padang_food_image_classification_using_model_VGG16.ipynb\" target=\"_parent\"><img src=\"https://colab.research.google.com/assets/colab-badge.svg\" alt=\"Open In Colab\"/></a>"
      ]
    },
    {
      "cell_type": "markdown",
      "source": [
        "# Import dataset from Kaggle"
      ],
      "metadata": {
        "id": "3fibGx75ON1m"
      },
      "id": "3fibGx75ON1m"
    },
    {
      "cell_type": "code",
      "source": [
        "! pip install opendatasets --quiet"
      ],
      "metadata": {
        "id": "Ohe9xAf-OMj4"
      },
      "id": "Ohe9xAf-OMj4",
      "execution_count": null,
      "outputs": []
    },
    {
      "cell_type": "markdown",
      "source": [
        "Before downloading the dataset, enter your username and kaggle account key, the method can be seen in http://bit.ly/kaggle-creds"
      ],
      "metadata": {
        "id": "bM-iFDsZ_1iF"
      },
      "id": "bM-iFDsZ_1iF"
    },
    {
      "cell_type": "code",
      "source": [
        "import opendatasets as od \n",
        "dataset_url = 'https://www.kaggle.com/datasets/faldoae/padangfood'\n",
        "od.download(dataset_url)"
      ],
      "metadata": {
        "colab": {
          "base_uri": "https://localhost:8080/"
        },
        "id": "9l1RJF4yOTfK",
        "outputId": "7106ea90-ac78-4ca3-cce7-2d0642eecd3b"
      },
      "id": "9l1RJF4yOTfK",
      "execution_count": null,
      "outputs": [
        {
          "output_type": "stream",
          "name": "stdout",
          "text": [
            "Please provide your Kaggle credentials to download this dataset. Learn more: http://bit.ly/kaggle-creds\n",
            "Your Kaggle username: faldoae\n",
            "Your Kaggle Key: ··········\n",
            "Downloading padangfood.zip to ./padangfood\n"
          ]
        },
        {
          "output_type": "stream",
          "name": "stderr",
          "text": [
            "100%|██████████| 114M/114M [00:02<00:00, 57.1MB/s]\n"
          ]
        },
        {
          "output_type": "stream",
          "name": "stdout",
          "text": [
            "\n"
          ]
        }
      ]
    },
    {
      "cell_type": "code",
      "execution_count": null,
      "id": "6ea11f34",
      "metadata": {
        "_cell_guid": "b1076dfc-b9ad-4769-8c92-a6c4dae69d19",
        "_uuid": "8f2839f25d086af736a60e9eeb907d3b93b6e0e5",
        "execution": {
          "iopub.execute_input": "2022-08-28T07:44:29.837221Z",
          "iopub.status.busy": "2022-08-28T07:44:29.836126Z",
          "iopub.status.idle": "2022-08-28T07:44:36.852653Z",
          "shell.execute_reply": "2022-08-28T07:44:36.851433Z"
        },
        "papermill": {
          "duration": 7.026521,
          "end_time": "2022-08-28T07:44:36.855163",
          "exception": false,
          "start_time": "2022-08-28T07:44:29.828642",
          "status": "completed"
        },
        "tags": [],
        "id": "6ea11f34"
      },
      "outputs": [],
      "source": [
        "import numpy as np\n",
        "import pandas as pd \n",
        "\n",
        "import os\n",
        "\n",
        "import pandas as pd\n",
        "import numpy as np \n",
        "import seaborn as sns\n",
        "import matplotlib.pyplot as plt \n",
        "import warnings\n",
        "warnings.filterwarnings('ignore')\n",
        "\n",
        "from tensorflow.keras.preprocessing.image import ImageDataGenerator\n",
        "from tensorflow.keras.models import Sequential\n",
        "from tensorflow.keras.layers import Activation, Dropout, Flatten, Dense, Conv2D, MaxPooling2D\n",
        "from tensorflow.keras.callbacks import EarlyStopping, ModelCheckpoint, ReduceLROnPlateau\n",
        "\n",
        "%matplotlib inline"
      ]
    },
    {
      "cell_type": "markdown",
      "id": "32db6c77",
      "metadata": {
        "papermill": {
          "duration": 0.004263,
          "end_time": "2022-08-28T07:44:36.863902",
          "exception": false,
          "start_time": "2022-08-28T07:44:36.859639",
          "status": "completed"
        },
        "tags": [],
        "id": "32db6c77"
      },
      "source": [
        "# Splitting Dataset"
      ]
    },
    {
      "cell_type": "code",
      "execution_count": null,
      "id": "81ca565e",
      "metadata": {
        "execution": {
          "iopub.execute_input": "2022-08-28T07:44:36.874753Z",
          "iopub.status.busy": "2022-08-28T07:44:36.873850Z",
          "iopub.status.idle": "2022-08-28T07:44:37.871286Z",
          "shell.execute_reply": "2022-08-28T07:44:37.869987Z"
        },
        "papermill": {
          "duration": 1.006124,
          "end_time": "2022-08-28T07:44:37.874103",
          "exception": false,
          "start_time": "2022-08-28T07:44:36.867979",
          "status": "completed"
        },
        "tags": [],
        "id": "81ca565e"
      },
      "outputs": [],
      "source": [
        "#create a new folder that is used to enter the results of the split dataset\n",
        "\n",
        "!mkdir datasplit"
      ]
    },
    {
      "cell_type": "code",
      "execution_count": null,
      "id": "4cf9474d",
      "metadata": {
        "execution": {
          "iopub.execute_input": "2022-08-28T07:44:37.884878Z",
          "iopub.status.busy": "2022-08-28T07:44:37.884523Z",
          "iopub.status.idle": "2022-08-28T07:44:37.890554Z",
          "shell.execute_reply": "2022-08-28T07:44:37.889693Z"
        },
        "papermill": {
          "duration": 0.014113,
          "end_time": "2022-08-28T07:44:37.892779",
          "exception": false,
          "start_time": "2022-08-28T07:44:37.878666",
          "status": "completed"
        },
        "tags": [],
        "id": "4cf9474d"
      },
      "outputs": [],
      "source": [
        "#create variables by defining the location of the raw dataset folder and the splitting dataset folder\n",
        "\n",
        "dataraw = '/content/padangfood/dataset_padang_food'\n",
        "datasplit = '/content/datasplit'"
      ]
    },
    {
      "cell_type": "code",
      "execution_count": null,
      "id": "e257030a",
      "metadata": {
        "execution": {
          "iopub.execute_input": "2022-08-28T07:44:37.902472Z",
          "iopub.status.busy": "2022-08-28T07:44:37.902146Z",
          "iopub.status.idle": "2022-08-28T07:44:55.669621Z",
          "shell.execute_reply": "2022-08-28T07:44:55.667938Z"
        },
        "papermill": {
          "duration": 17.774946,
          "end_time": "2022-08-28T07:44:55.671866",
          "exception": false,
          "start_time": "2022-08-28T07:44:37.896920",
          "status": "completed"
        },
        "tags": [],
        "colab": {
          "base_uri": "https://localhost:8080/"
        },
        "id": "e257030a",
        "outputId": "1f7523f1-46c7-46af-a91e-2665fac1c934"
      },
      "outputs": [
        {
          "output_type": "stream",
          "name": "stdout",
          "text": [
            "Looking in indexes: https://pypi.org/simple, https://us-python.pkg.dev/colab-wheels/public/simple/\n",
            "Collecting split-folders\n",
            "  Downloading split_folders-0.5.1-py3-none-any.whl (8.4 kB)\n",
            "Installing collected packages: split-folders\n",
            "Successfully installed split-folders-0.5.1\n"
          ]
        },
        {
          "output_type": "stream",
          "name": "stderr",
          "text": [
            "Copying files: 993 files [00:00, 1687.24 files/s]\n"
          ]
        }
      ],
      "source": [
        "#dataset splitting process with a ratio of 70% train data, 20% validation data and 10% test data\n",
        "\n",
        "!pip install split-folders #install \n",
        "import splitfolders\n",
        "splitfolders.ratio(dataraw, output=datasplit, seed=1337, ratio=(.6,.3,.1),group_prefix=None)"
      ]
    },
    {
      "cell_type": "code",
      "execution_count": null,
      "id": "385e250f",
      "metadata": {
        "execution": {
          "iopub.execute_input": "2022-08-28T07:44:55.688871Z",
          "iopub.status.busy": "2022-08-28T07:44:55.688541Z",
          "iopub.status.idle": "2022-08-28T07:44:55.694120Z",
          "shell.execute_reply": "2022-08-28T07:44:55.693108Z"
        },
        "papermill": {
          "duration": 0.016692,
          "end_time": "2022-08-28T07:44:55.696237",
          "exception": false,
          "start_time": "2022-08-28T07:44:55.679545",
          "status": "completed"
        },
        "tags": [],
        "id": "385e250f"
      },
      "outputs": [],
      "source": [
        "test_dir = \"./datasplit/test\"\n",
        "train_dir = \"./datasplit/train\"\n",
        "val_dir = \"./datasplit/val\""
      ]
    },
    {
      "cell_type": "markdown",
      "source": [
        "# Modelling Machine Learning"
      ],
      "metadata": {
        "id": "hlZsTGKG3ORa"
      },
      "id": "hlZsTGKG3ORa"
    },
    {
      "cell_type": "code",
      "execution_count": null,
      "id": "39a91257",
      "metadata": {
        "execution": {
          "iopub.execute_input": "2022-08-28T07:44:55.712123Z",
          "iopub.status.busy": "2022-08-28T07:44:55.711801Z",
          "iopub.status.idle": "2022-08-28T07:44:59.396631Z",
          "shell.execute_reply": "2022-08-28T07:44:59.395593Z"
        },
        "papermill": {
          "duration": 3.695528,
          "end_time": "2022-08-28T07:44:59.399279",
          "exception": false,
          "start_time": "2022-08-28T07:44:55.703751",
          "status": "completed"
        },
        "tags": [],
        "colab": {
          "base_uri": "https://localhost:8080/"
        },
        "id": "39a91257",
        "outputId": "ec3a6a7a-8145-454b-aba0-30523ce27b1e"
      },
      "outputs": [
        {
          "output_type": "stream",
          "name": "stdout",
          "text": [
            "Downloading data from https://storage.googleapis.com/tensorflow/keras-applications/vgg16/vgg16_weights_tf_dim_ordering_tf_kernels_notop.h5\n",
            "58892288/58889256 [==============================] - 0s 0us/step\n",
            "58900480/58889256 [==============================] - 0s 0us/step\n"
          ]
        }
      ],
      "source": [
        "#DISINI SAYA MENGGUNAKAN MODEL VGG16\n",
        "\n",
        "from tensorflow.keras.applications.vgg16 import VGG16\n",
        "from tensorflow.keras.applications.vgg16 import preprocess_input\n",
        "\n",
        "base_model = VGG16(weights=\"imagenet\", include_top=False, input_shape=(224,224,3))\n",
        "base_model.trainable = False"
      ]
    },
    {
      "cell_type": "code",
      "execution_count": null,
      "id": "33a7d19e",
      "metadata": {
        "execution": {
          "iopub.execute_input": "2022-08-28T07:44:59.418017Z",
          "iopub.status.busy": "2022-08-28T07:44:59.417689Z",
          "iopub.status.idle": "2022-08-28T07:44:59.516270Z",
          "shell.execute_reply": "2022-08-28T07:44:59.515314Z"
        },
        "papermill": {
          "duration": 0.110137,
          "end_time": "2022-08-28T07:44:59.518721",
          "exception": false,
          "start_time": "2022-08-28T07:44:59.408584",
          "status": "completed"
        },
        "tags": [],
        "id": "33a7d19e"
      },
      "outputs": [],
      "source": [
        "from tensorflow.keras import layers, models\n",
        "\n",
        "flatten_layer = layers.Flatten()\n",
        "dense_layer_1 = layers.Dense(512, activation='relu')\n",
        "dropout = layers.Dropout(0.5)\n",
        "prediction_layer = layers.Dense(9, activation='softmax')\n",
        "\n",
        "model = models.Sequential([\n",
        "    base_model,\n",
        "    flatten_layer,\n",
        "    dense_layer_1,\n",
        "    dropout,\n",
        "    prediction_layer\n",
        "])"
      ]
    },
    {
      "cell_type": "markdown",
      "source": [
        "# Augmentation Data"
      ],
      "metadata": {
        "id": "AKkMSVI_3Yq7"
      },
      "id": "AKkMSVI_3Yq7"
    },
    {
      "cell_type": "code",
      "execution_count": null,
      "id": "cc91f84b",
      "metadata": {
        "execution": {
          "iopub.execute_input": "2022-08-28T07:44:59.542017Z",
          "iopub.status.busy": "2022-08-28T07:44:59.541131Z",
          "iopub.status.idle": "2022-08-28T07:44:59.547078Z",
          "shell.execute_reply": "2022-08-28T07:44:59.546036Z"
        },
        "papermill": {
          "duration": 0.020873,
          "end_time": "2022-08-28T07:44:59.549148",
          "exception": false,
          "start_time": "2022-08-28T07:44:59.528275",
          "status": "completed"
        },
        "tags": [],
        "id": "cc91f84b"
      },
      "outputs": [],
      "source": [
        "image_shape = (224,224,3)\n",
        "image_gen = ImageDataGenerator(rotation_range=20,\n",
        "                               width_shift_range=0.10,\n",
        "                               height_shift_range=0.10,\n",
        "                               rescale=1/255,\n",
        "                               shear_range=0.1,\n",
        "                               zoom_range=0.1,\n",
        "                               horizontal_flip=True,\n",
        "                               fill_mode='nearest')"
      ]
    },
    {
      "cell_type": "code",
      "execution_count": null,
      "id": "4c864042",
      "metadata": {
        "execution": {
          "iopub.execute_input": "2022-08-28T07:44:59.567577Z",
          "iopub.status.busy": "2022-08-28T07:44:59.566817Z",
          "iopub.status.idle": "2022-08-28T07:44:59.676413Z",
          "shell.execute_reply": "2022-08-28T07:44:59.675282Z"
        },
        "papermill": {
          "duration": 0.121256,
          "end_time": "2022-08-28T07:44:59.679118",
          "exception": false,
          "start_time": "2022-08-28T07:44:59.557862",
          "status": "completed"
        },
        "tags": [],
        "colab": {
          "base_uri": "https://localhost:8080/"
        },
        "id": "4c864042",
        "outputId": "cdf01b40-00e9-4218-e1ae-538917923d44"
      },
      "outputs": [
        {
          "output_type": "stream",
          "name": "stdout",
          "text": [
            "Found 591 images belonging to 9 classes.\n"
          ]
        }
      ],
      "source": [
        "train_image_gen = image_gen.flow_from_directory(train_dir,\n",
        "                                               target_size=(224,224),\n",
        "                                               batch_size=32,\n",
        "                                               class_mode='categorical')"
      ]
    },
    {
      "cell_type": "code",
      "execution_count": null,
      "id": "b7d7486f",
      "metadata": {
        "execution": {
          "iopub.execute_input": "2022-08-28T07:44:59.697171Z",
          "iopub.status.busy": "2022-08-28T07:44:59.696828Z",
          "iopub.status.idle": "2022-08-28T07:44:59.805454Z",
          "shell.execute_reply": "2022-08-28T07:44:59.804432Z"
        },
        "papermill": {
          "duration": 0.119943,
          "end_time": "2022-08-28T07:44:59.807643",
          "exception": false,
          "start_time": "2022-08-28T07:44:59.687700",
          "status": "completed"
        },
        "tags": [],
        "colab": {
          "base_uri": "https://localhost:8080/"
        },
        "id": "b7d7486f",
        "outputId": "a12d0cb9-ca50-46f9-f454-6167d515ba4f"
      },
      "outputs": [
        {
          "output_type": "stream",
          "name": "stdout",
          "text": [
            "Found 293 images belonging to 9 classes.\n"
          ]
        }
      ],
      "source": [
        "val_image_gen = image_gen.flow_from_directory(val_dir,\n",
        "                                               target_size=(224,224),\n",
        "                                               batch_size=32,\n",
        "                                               class_mode='categorical',shuffle=False)"
      ]
    },
    {
      "cell_type": "code",
      "execution_count": null,
      "id": "d40b15bc",
      "metadata": {
        "execution": {
          "iopub.execute_input": "2022-08-28T07:44:59.825969Z",
          "iopub.status.busy": "2022-08-28T07:44:59.825098Z",
          "iopub.status.idle": "2022-08-28T07:44:59.932045Z",
          "shell.execute_reply": "2022-08-28T07:44:59.931106Z"
        },
        "papermill": {
          "duration": 0.118631,
          "end_time": "2022-08-28T07:44:59.934618",
          "exception": false,
          "start_time": "2022-08-28T07:44:59.815987",
          "status": "completed"
        },
        "tags": [],
        "colab": {
          "base_uri": "https://localhost:8080/"
        },
        "id": "d40b15bc",
        "outputId": "7b0df480-2215-462b-b9f1-a53a6a679e68"
      },
      "outputs": [
        {
          "output_type": "stream",
          "name": "stdout",
          "text": [
            "Found 109 images belonging to 9 classes.\n"
          ]
        }
      ],
      "source": [
        "test_image_gen = image_gen.flow_from_directory(test_dir,\n",
        "                                               target_size=(224,224),\n",
        "                                               batch_size=32,\n",
        "                                               class_mode='categorical',shuffle=False)"
      ]
    },
    {
      "cell_type": "markdown",
      "source": [
        "# Train Machine Learning Model"
      ],
      "metadata": {
        "id": "BKlIfa2E3fQP"
      },
      "id": "BKlIfa2E3fQP"
    },
    {
      "cell_type": "code",
      "execution_count": null,
      "id": "ef4dcb59",
      "metadata": {
        "execution": {
          "iopub.execute_input": "2022-08-28T07:44:59.952280Z",
          "iopub.status.busy": "2022-08-28T07:44:59.951725Z",
          "iopub.status.idle": "2022-08-28T08:28:04.718529Z",
          "shell.execute_reply": "2022-08-28T08:28:04.717509Z"
        },
        "papermill": {
          "duration": 2584.947812,
          "end_time": "2022-08-28T08:28:04.890351",
          "exception": false,
          "start_time": "2022-08-28T07:44:59.942539",
          "status": "completed"
        },
        "tags": [],
        "colab": {
          "base_uri": "https://localhost:8080/"
        },
        "id": "ef4dcb59",
        "outputId": "5da05db2-aeaa-415a-e6a0-866e1d60c08e"
      },
      "outputs": [
        {
          "output_type": "stream",
          "name": "stdout",
          "text": [
            "Epoch 1/150\n",
            "19/19 [==============================] - 37s 1s/step - loss: 0.5211 - acc: 0.0964 - val_loss: 0.3485 - val_acc: 0.1502\n",
            "Epoch 2/150\n",
            "19/19 [==============================] - 18s 931ms/step - loss: 0.3844 - acc: 0.1354 - val_loss: 0.3437 - val_acc: 0.2253\n",
            "Epoch 3/150\n",
            "19/19 [==============================] - 17s 908ms/step - loss: 0.3689 - acc: 0.1421 - val_loss: 0.3267 - val_acc: 0.2867\n",
            "Epoch 4/150\n",
            "19/19 [==============================] - 18s 970ms/step - loss: 0.3434 - acc: 0.2521 - val_loss: 0.3162 - val_acc: 0.3447\n",
            "Epoch 5/150\n",
            "19/19 [==============================] - 22s 1s/step - loss: 0.3383 - acc: 0.2470 - val_loss: 0.3059 - val_acc: 0.4096\n",
            "Epoch 6/150\n",
            "19/19 [==============================] - 17s 906ms/step - loss: 0.3212 - acc: 0.2860 - val_loss: 0.2967 - val_acc: 0.4642\n",
            "Epoch 7/150\n",
            "19/19 [==============================] - 17s 914ms/step - loss: 0.3111 - acc: 0.3232 - val_loss: 0.2914 - val_acc: 0.4676\n",
            "Epoch 8/150\n",
            "19/19 [==============================] - 17s 923ms/step - loss: 0.3009 - acc: 0.3706 - val_loss: 0.2805 - val_acc: 0.5256\n",
            "Epoch 9/150\n",
            "19/19 [==============================] - 17s 910ms/step - loss: 0.2892 - acc: 0.4027 - val_loss: 0.2741 - val_acc: 0.5222\n",
            "Epoch 10/150\n",
            "19/19 [==============================] - 17s 914ms/step - loss: 0.2857 - acc: 0.4112 - val_loss: 0.2698 - val_acc: 0.5563\n",
            "Epoch 11/150\n",
            "19/19 [==============================] - 18s 968ms/step - loss: 0.2758 - acc: 0.4467 - val_loss: 0.2643 - val_acc: 0.5529\n",
            "Epoch 12/150\n",
            "19/19 [==============================] - 18s 928ms/step - loss: 0.2714 - acc: 0.4450 - val_loss: 0.2569 - val_acc: 0.6007\n",
            "Epoch 13/150\n",
            "19/19 [==============================] - 17s 916ms/step - loss: 0.2619 - acc: 0.4924 - val_loss: 0.2559 - val_acc: 0.5904\n",
            "Epoch 14/150\n",
            "19/19 [==============================] - 17s 928ms/step - loss: 0.2593 - acc: 0.4941 - val_loss: 0.2464 - val_acc: 0.6280\n",
            "Epoch 15/150\n",
            "19/19 [==============================] - 18s 945ms/step - loss: 0.2505 - acc: 0.5465 - val_loss: 0.2465 - val_acc: 0.6075\n",
            "Epoch 16/150\n",
            "19/19 [==============================] - 18s 975ms/step - loss: 0.2463 - acc: 0.5296 - val_loss: 0.2439 - val_acc: 0.6246\n",
            "Epoch 17/150\n",
            "19/19 [==============================] - 18s 936ms/step - loss: 0.2406 - acc: 0.5685 - val_loss: 0.2388 - val_acc: 0.6177\n",
            "Epoch 18/150\n",
            "19/19 [==============================] - 18s 946ms/step - loss: 0.2388 - acc: 0.5753 - val_loss: 0.2331 - val_acc: 0.6519\n",
            "Epoch 19/150\n",
            "19/19 [==============================] - 18s 934ms/step - loss: 0.2353 - acc: 0.5990 - val_loss: 0.2281 - val_acc: 0.6724\n",
            "Epoch 20/150\n",
            "19/19 [==============================] - 17s 921ms/step - loss: 0.2280 - acc: 0.6277 - val_loss: 0.2249 - val_acc: 0.6689\n",
            "Epoch 21/150\n",
            "19/19 [==============================] - 18s 977ms/step - loss: 0.2237 - acc: 0.6362 - val_loss: 0.2254 - val_acc: 0.6826\n",
            "Epoch 22/150\n",
            "19/19 [==============================] - 18s 937ms/step - loss: 0.2196 - acc: 0.6294 - val_loss: 0.2228 - val_acc: 0.6587\n",
            "Epoch 23/150\n",
            "19/19 [==============================] - 17s 930ms/step - loss: 0.2126 - acc: 0.6582 - val_loss: 0.2192 - val_acc: 0.6826\n",
            "Epoch 24/150\n",
            "19/19 [==============================] - 17s 924ms/step - loss: 0.2169 - acc: 0.6159 - val_loss: 0.2190 - val_acc: 0.6655\n",
            "Epoch 25/150\n",
            "19/19 [==============================] - 18s 957ms/step - loss: 0.2108 - acc: 0.6599 - val_loss: 0.2156 - val_acc: 0.6553\n",
            "Epoch 26/150\n",
            "19/19 [==============================] - 17s 916ms/step - loss: 0.2014 - acc: 0.6701 - val_loss: 0.2154 - val_acc: 0.6689\n",
            "Epoch 27/150\n",
            "19/19 [==============================] - 18s 958ms/step - loss: 0.2027 - acc: 0.6633 - val_loss: 0.2115 - val_acc: 0.6860\n",
            "Epoch 28/150\n",
            "19/19 [==============================] - 17s 930ms/step - loss: 0.1925 - acc: 0.7005 - val_loss: 0.2106 - val_acc: 0.6519\n",
            "Epoch 29/150\n",
            "19/19 [==============================] - 17s 918ms/step - loss: 0.1989 - acc: 0.6650 - val_loss: 0.2085 - val_acc: 0.6451\n",
            "Epoch 30/150\n",
            "19/19 [==============================] - 17s 916ms/step - loss: 0.1923 - acc: 0.6988 - val_loss: 0.2086 - val_acc: 0.6724\n",
            "Epoch 31/150\n",
            "19/19 [==============================] - 17s 916ms/step - loss: 0.1850 - acc: 0.7107 - val_loss: 0.2035 - val_acc: 0.6826\n",
            "Epoch 32/150\n",
            "19/19 [==============================] - 18s 971ms/step - loss: 0.1853 - acc: 0.7411 - val_loss: 0.2039 - val_acc: 0.6962\n",
            "Epoch 33/150\n",
            "19/19 [==============================] - 17s 921ms/step - loss: 0.1785 - acc: 0.7631 - val_loss: 0.2007 - val_acc: 0.7031\n",
            "Epoch 34/150\n",
            "19/19 [==============================] - 17s 922ms/step - loss: 0.1808 - acc: 0.7547 - val_loss: 0.2012 - val_acc: 0.6894\n",
            "Epoch 35/150\n",
            "19/19 [==============================] - 17s 929ms/step - loss: 0.1774 - acc: 0.7377 - val_loss: 0.1988 - val_acc: 0.7065\n",
            "Epoch 36/150\n",
            "19/19 [==============================] - 17s 919ms/step - loss: 0.1756 - acc: 0.7462 - val_loss: 0.1965 - val_acc: 0.6928\n",
            "Epoch 37/150\n",
            "19/19 [==============================] - 17s 911ms/step - loss: 0.1749 - acc: 0.7496 - val_loss: 0.1952 - val_acc: 0.6792\n",
            "Epoch 38/150\n",
            "19/19 [==============================] - 18s 965ms/step - loss: 0.1699 - acc: 0.7563 - val_loss: 0.1939 - val_acc: 0.6928\n",
            "Epoch 39/150\n",
            "19/19 [==============================] - 18s 929ms/step - loss: 0.1709 - acc: 0.7377 - val_loss: 0.1912 - val_acc: 0.7406\n",
            "Epoch 40/150\n",
            "19/19 [==============================] - 17s 915ms/step - loss: 0.1659 - acc: 0.7631 - val_loss: 0.1900 - val_acc: 0.7133\n",
            "Epoch 41/150\n",
            "19/19 [==============================] - 17s 929ms/step - loss: 0.1646 - acc: 0.7648 - val_loss: 0.1943 - val_acc: 0.6860\n",
            "Epoch 42/150\n",
            "19/19 [==============================] - 17s 922ms/step - loss: 0.1695 - acc: 0.7563 - val_loss: 0.1840 - val_acc: 0.7338\n",
            "Epoch 43/150\n",
            "19/19 [==============================] - 17s 917ms/step - loss: 0.1643 - acc: 0.7665 - val_loss: 0.1857 - val_acc: 0.7099\n",
            "Epoch 44/150\n",
            "19/19 [==============================] - 18s 964ms/step - loss: 0.1626 - acc: 0.7834 - val_loss: 0.1862 - val_acc: 0.7304\n",
            "Epoch 45/150\n",
            "19/19 [==============================] - 17s 916ms/step - loss: 0.1501 - acc: 0.8003 - val_loss: 0.1842 - val_acc: 0.7270\n",
            "Epoch 46/150\n",
            "19/19 [==============================] - 17s 925ms/step - loss: 0.1619 - acc: 0.7716 - val_loss: 0.1854 - val_acc: 0.7338\n",
            "Epoch 47/150\n",
            "19/19 [==============================] - 17s 912ms/step - loss: 0.1592 - acc: 0.7750 - val_loss: 0.1769 - val_acc: 0.7509\n",
            "Epoch 48/150\n",
            "19/19 [==============================] - 17s 908ms/step - loss: 0.1490 - acc: 0.8190 - val_loss: 0.1844 - val_acc: 0.7133\n",
            "Epoch 49/150\n",
            "19/19 [==============================] - 18s 973ms/step - loss: 0.1500 - acc: 0.7986 - val_loss: 0.1858 - val_acc: 0.7133\n",
            "Epoch 50/150\n",
            "19/19 [==============================] - 17s 909ms/step - loss: 0.1480 - acc: 0.8223 - val_loss: 0.1817 - val_acc: 0.7235\n",
            "Epoch 51/150\n",
            "19/19 [==============================] - 17s 914ms/step - loss: 0.1540 - acc: 0.7953 - val_loss: 0.1770 - val_acc: 0.7474\n",
            "Epoch 52/150\n",
            "19/19 [==============================] - 17s 912ms/step - loss: 0.1504 - acc: 0.8020 - val_loss: 0.1791 - val_acc: 0.7167\n",
            "Epoch 53/150\n",
            "19/19 [==============================] - 17s 928ms/step - loss: 0.1485 - acc: 0.8139 - val_loss: 0.1733 - val_acc: 0.7406\n",
            "Epoch 54/150\n",
            "19/19 [==============================] - 17s 910ms/step - loss: 0.1413 - acc: 0.8409 - val_loss: 0.1786 - val_acc: 0.7201\n",
            "Epoch 55/150\n",
            "19/19 [==============================] - 18s 955ms/step - loss: 0.1503 - acc: 0.7902 - val_loss: 0.1740 - val_acc: 0.7338\n",
            "Epoch 56/150\n",
            "19/19 [==============================] - 17s 933ms/step - loss: 0.1411 - acc: 0.8291 - val_loss: 0.1792 - val_acc: 0.7201\n",
            "Epoch 57/150\n",
            "19/19 [==============================] - 17s 919ms/step - loss: 0.1450 - acc: 0.8088 - val_loss: 0.1756 - val_acc: 0.7270\n",
            "Epoch 58/150\n",
            "19/19 [==============================] - 17s 907ms/step - loss: 0.1374 - acc: 0.8325 - val_loss: 0.1717 - val_acc: 0.7543\n",
            "Epoch 59/150\n",
            "19/19 [==============================] - 17s 927ms/step - loss: 0.1368 - acc: 0.8359 - val_loss: 0.1743 - val_acc: 0.7201\n",
            "Epoch 60/150\n",
            "19/19 [==============================] - 18s 946ms/step - loss: 0.1388 - acc: 0.8190 - val_loss: 0.1709 - val_acc: 0.7372\n",
            "Epoch 61/150\n",
            "19/19 [==============================] - 17s 901ms/step - loss: 0.1390 - acc: 0.8223 - val_loss: 0.1702 - val_acc: 0.7372\n",
            "Epoch 62/150\n",
            "19/19 [==============================] - 17s 932ms/step - loss: 0.1355 - acc: 0.8274 - val_loss: 0.1732 - val_acc: 0.7474\n",
            "Epoch 63/150\n",
            "19/19 [==============================] - 17s 926ms/step - loss: 0.1335 - acc: 0.8409 - val_loss: 0.1740 - val_acc: 0.7304\n",
            "Epoch 64/150\n",
            "19/19 [==============================] - 17s 909ms/step - loss: 0.1277 - acc: 0.8511 - val_loss: 0.1690 - val_acc: 0.7509\n",
            "Epoch 65/150\n",
            "19/19 [==============================] - 17s 908ms/step - loss: 0.1359 - acc: 0.8359 - val_loss: 0.1706 - val_acc: 0.7338\n",
            "Epoch 66/150\n",
            "19/19 [==============================] - 18s 967ms/step - loss: 0.1309 - acc: 0.8240 - val_loss: 0.1749 - val_acc: 0.7270\n",
            "Epoch 67/150\n",
            "19/19 [==============================] - 17s 903ms/step - loss: 0.1298 - acc: 0.8562 - val_loss: 0.1682 - val_acc: 0.7543\n",
            "Epoch 68/150\n",
            "19/19 [==============================] - 17s 908ms/step - loss: 0.1267 - acc: 0.8545 - val_loss: 0.1726 - val_acc: 0.7201\n",
            "Epoch 69/150\n",
            "19/19 [==============================] - 17s 922ms/step - loss: 0.1181 - acc: 0.8968 - val_loss: 0.1647 - val_acc: 0.7474\n",
            "Epoch 70/150\n",
            "19/19 [==============================] - 17s 912ms/step - loss: 0.1256 - acc: 0.8613 - val_loss: 0.1642 - val_acc: 0.7440\n",
            "Epoch 71/150\n",
            "19/19 [==============================] - 17s 915ms/step - loss: 0.1217 - acc: 0.8697 - val_loss: 0.1664 - val_acc: 0.7611\n",
            "Epoch 72/150\n",
            "19/19 [==============================] - 18s 917ms/step - loss: 0.1172 - acc: 0.8917 - val_loss: 0.1659 - val_acc: 0.7509\n",
            "Epoch 73/150\n",
            "19/19 [==============================] - 17s 917ms/step - loss: 0.1203 - acc: 0.8613 - val_loss: 0.1654 - val_acc: 0.7270\n",
            "Epoch 74/150\n",
            "19/19 [==============================] - 17s 905ms/step - loss: 0.1202 - acc: 0.8613 - val_loss: 0.1705 - val_acc: 0.7474\n",
            "Epoch 75/150\n",
            "19/19 [==============================] - 17s 908ms/step - loss: 0.1220 - acc: 0.8528 - val_loss: 0.1662 - val_acc: 0.7509\n",
            "Epoch 76/150\n",
            "19/19 [==============================] - 18s 930ms/step - loss: 0.1224 - acc: 0.8629 - val_loss: 0.1645 - val_acc: 0.7133\n",
            "Epoch 77/150\n",
            "19/19 [==============================] - 18s 965ms/step - loss: 0.1157 - acc: 0.8731 - val_loss: 0.1618 - val_acc: 0.7577\n",
            "Epoch 78/150\n",
            "19/19 [==============================] - 17s 914ms/step - loss: 0.1135 - acc: 0.8799 - val_loss: 0.1658 - val_acc: 0.7440\n",
            "Epoch 79/150\n",
            "19/19 [==============================] - 17s 917ms/step - loss: 0.1145 - acc: 0.8731 - val_loss: 0.1607 - val_acc: 0.7713\n",
            "Epoch 80/150\n",
            "19/19 [==============================] - 17s 949ms/step - loss: 0.1117 - acc: 0.8799 - val_loss: 0.1630 - val_acc: 0.7270\n",
            "Epoch 81/150\n",
            "19/19 [==============================] - 17s 916ms/step - loss: 0.1110 - acc: 0.8866 - val_loss: 0.1649 - val_acc: 0.7338\n",
            "Epoch 82/150\n",
            "19/19 [==============================] - 17s 920ms/step - loss: 0.1141 - acc: 0.8748 - val_loss: 0.1643 - val_acc: 0.7406\n",
            "Epoch 83/150\n",
            "19/19 [==============================] - 19s 989ms/step - loss: 0.1102 - acc: 0.8917 - val_loss: 0.1599 - val_acc: 0.7304\n",
            "Epoch 84/150\n",
            "19/19 [==============================] - 17s 932ms/step - loss: 0.1104 - acc: 0.8646 - val_loss: 0.1603 - val_acc: 0.7440\n",
            "Epoch 85/150\n",
            "19/19 [==============================] - 17s 925ms/step - loss: 0.1069 - acc: 0.8951 - val_loss: 0.1597 - val_acc: 0.7611\n",
            "Epoch 86/150\n",
            "19/19 [==============================] - 17s 907ms/step - loss: 0.1019 - acc: 0.9222 - val_loss: 0.1591 - val_acc: 0.7235\n",
            "Epoch 87/150\n",
            "19/19 [==============================] - 18s 936ms/step - loss: 0.1084 - acc: 0.8900 - val_loss: 0.1631 - val_acc: 0.7509\n",
            "Epoch 88/150\n",
            "19/19 [==============================] - 17s 929ms/step - loss: 0.1043 - acc: 0.8985 - val_loss: 0.1646 - val_acc: 0.7440\n",
            "Epoch 89/150\n",
            "19/19 [==============================] - 17s 918ms/step - loss: 0.1032 - acc: 0.9002 - val_loss: 0.1612 - val_acc: 0.7440\n",
            "Epoch 90/150\n",
            "19/19 [==============================] - 18s 938ms/step - loss: 0.1013 - acc: 0.9120 - val_loss: 0.1611 - val_acc: 0.7543\n",
            "Epoch 91/150\n",
            "19/19 [==============================] - 17s 910ms/step - loss: 0.1047 - acc: 0.8968 - val_loss: 0.1552 - val_acc: 0.7440\n",
            "Epoch 92/150\n",
            "19/19 [==============================] - 17s 923ms/step - loss: 0.1055 - acc: 0.8985 - val_loss: 0.1586 - val_acc: 0.7304\n",
            "Epoch 93/150\n",
            "19/19 [==============================] - 18s 932ms/step - loss: 0.1053 - acc: 0.8782 - val_loss: 0.1615 - val_acc: 0.7304\n",
            "Epoch 94/150\n",
            "19/19 [==============================] - 18s 958ms/step - loss: 0.1050 - acc: 0.9002 - val_loss: 0.1554 - val_acc: 0.7474\n",
            "Epoch 95/150\n",
            "19/19 [==============================] - 17s 928ms/step - loss: 0.1027 - acc: 0.8883 - val_loss: 0.1540 - val_acc: 0.7645\n",
            "Epoch 96/150\n",
            "19/19 [==============================] - 17s 924ms/step - loss: 0.1063 - acc: 0.8816 - val_loss: 0.1556 - val_acc: 0.7645\n",
            "Epoch 97/150\n",
            "19/19 [==============================] - 18s 943ms/step - loss: 0.1052 - acc: 0.8900 - val_loss: 0.1580 - val_acc: 0.7645\n",
            "Epoch 98/150\n",
            "19/19 [==============================] - 17s 916ms/step - loss: 0.0953 - acc: 0.9120 - val_loss: 0.1593 - val_acc: 0.7235\n",
            "Epoch 99/150\n",
            "19/19 [==============================] - 17s 915ms/step - loss: 0.0981 - acc: 0.8934 - val_loss: 0.1579 - val_acc: 0.7372\n",
            "Epoch 100/150\n",
            "19/19 [==============================] - 18s 974ms/step - loss: 0.1003 - acc: 0.9019 - val_loss: 0.1601 - val_acc: 0.7372\n",
            "Epoch 101/150\n",
            "19/19 [==============================] - 17s 915ms/step - loss: 0.0958 - acc: 0.9289 - val_loss: 0.1542 - val_acc: 0.7611\n",
            "Epoch 102/150\n",
            "19/19 [==============================] - 17s 927ms/step - loss: 0.0927 - acc: 0.9222 - val_loss: 0.1592 - val_acc: 0.7543\n",
            "Epoch 103/150\n",
            "19/19 [==============================] - 17s 921ms/step - loss: 0.0927 - acc: 0.9171 - val_loss: 0.1527 - val_acc: 0.7440\n",
            "Epoch 104/150\n",
            "19/19 [==============================] - 17s 933ms/step - loss: 0.0964 - acc: 0.9002 - val_loss: 0.1511 - val_acc: 0.7577\n",
            "Epoch 105/150\n",
            "19/19 [==============================] - 17s 909ms/step - loss: 0.0970 - acc: 0.9171 - val_loss: 0.1529 - val_acc: 0.7543\n",
            "Epoch 106/150\n",
            "19/19 [==============================] - 18s 958ms/step - loss: 0.0970 - acc: 0.9188 - val_loss: 0.1541 - val_acc: 0.7406\n",
            "Epoch 107/150\n",
            "19/19 [==============================] - 18s 955ms/step - loss: 0.0872 - acc: 0.9255 - val_loss: 0.1602 - val_acc: 0.7611\n",
            "Epoch 108/150\n",
            "19/19 [==============================] - 17s 914ms/step - loss: 0.0933 - acc: 0.9103 - val_loss: 0.1528 - val_acc: 0.7645\n",
            "Epoch 109/150\n",
            "19/19 [==============================] - 17s 917ms/step - loss: 0.0930 - acc: 0.8985 - val_loss: 0.1511 - val_acc: 0.7645\n",
            "Epoch 110/150\n",
            "19/19 [==============================] - 17s 921ms/step - loss: 0.0909 - acc: 0.9222 - val_loss: 0.1547 - val_acc: 0.7474\n",
            "Epoch 111/150\n",
            "19/19 [==============================] - 18s 944ms/step - loss: 0.0883 - acc: 0.9239 - val_loss: 0.1575 - val_acc: 0.7543\n",
            "Epoch 112/150\n",
            "19/19 [==============================] - 17s 913ms/step - loss: 0.0875 - acc: 0.9137 - val_loss: 0.1539 - val_acc: 0.7543\n",
            "Epoch 113/150\n",
            "19/19 [==============================] - 17s 908ms/step - loss: 0.0910 - acc: 0.9171 - val_loss: 0.1534 - val_acc: 0.7406\n",
            "Epoch 114/150\n",
            "19/19 [==============================] - 18s 948ms/step - loss: 0.0855 - acc: 0.9272 - val_loss: 0.1491 - val_acc: 0.7747\n",
            "Epoch 115/150\n",
            "19/19 [==============================] - 17s 928ms/step - loss: 0.0857 - acc: 0.9239 - val_loss: 0.1528 - val_acc: 0.7679\n",
            "Epoch 116/150\n",
            "19/19 [==============================] - 17s 924ms/step - loss: 0.0854 - acc: 0.9306 - val_loss: 0.1509 - val_acc: 0.7543\n",
            "Epoch 117/150\n",
            "19/19 [==============================] - 19s 986ms/step - loss: 0.0850 - acc: 0.9289 - val_loss: 0.1498 - val_acc: 0.7440\n",
            "Epoch 118/150\n",
            "19/19 [==============================] - 17s 909ms/step - loss: 0.0878 - acc: 0.9205 - val_loss: 0.1502 - val_acc: 0.7747\n",
            "Epoch 119/150\n",
            "19/19 [==============================] - 17s 911ms/step - loss: 0.0843 - acc: 0.9323 - val_loss: 0.1546 - val_acc: 0.7577\n",
            "Epoch 120/150\n",
            "19/19 [==============================] - 17s 918ms/step - loss: 0.0864 - acc: 0.9289 - val_loss: 0.1553 - val_acc: 0.7611\n",
            "Epoch 121/150\n",
            "19/19 [==============================] - 18s 935ms/step - loss: 0.0822 - acc: 0.9391 - val_loss: 0.1505 - val_acc: 0.7543\n",
            "Epoch 122/150\n",
            "19/19 [==============================] - 17s 915ms/step - loss: 0.0854 - acc: 0.9239 - val_loss: 0.1581 - val_acc: 0.7509\n",
            "Epoch 123/150\n",
            "19/19 [==============================] - 18s 953ms/step - loss: 0.0845 - acc: 0.9272 - val_loss: 0.1555 - val_acc: 0.7440\n",
            "Epoch 124/150\n",
            "19/19 [==============================] - 17s 926ms/step - loss: 0.0785 - acc: 0.9391 - val_loss: 0.1535 - val_acc: 0.7577\n",
            "Epoch 125/150\n",
            "19/19 [==============================] - 17s 899ms/step - loss: 0.0861 - acc: 0.9255 - val_loss: 0.1525 - val_acc: 0.7611\n",
            "Epoch 126/150\n",
            "19/19 [==============================] - 17s 887ms/step - loss: 0.0802 - acc: 0.9323 - val_loss: 0.1510 - val_acc: 0.7304\n",
            "Epoch 127/150\n",
            "19/19 [==============================] - 17s 904ms/step - loss: 0.0824 - acc: 0.9272 - val_loss: 0.1522 - val_acc: 0.7474\n",
            "Epoch 128/150\n",
            "19/19 [==============================] - 17s 917ms/step - loss: 0.0792 - acc: 0.9391 - val_loss: 0.1558 - val_acc: 0.7474\n",
            "Epoch 129/150\n",
            "19/19 [==============================] - 18s 949ms/step - loss: 0.0781 - acc: 0.9391 - val_loss: 0.1517 - val_acc: 0.7577\n",
            "Epoch 130/150\n",
            "19/19 [==============================] - 17s 924ms/step - loss: 0.0778 - acc: 0.9459 - val_loss: 0.1533 - val_acc: 0.7440\n",
            "Epoch 131/150\n",
            "19/19 [==============================] - 17s 917ms/step - loss: 0.0764 - acc: 0.9442 - val_loss: 0.1532 - val_acc: 0.7543\n",
            "Epoch 132/150\n",
            "19/19 [==============================] - 17s 904ms/step - loss: 0.0790 - acc: 0.9391 - val_loss: 0.1495 - val_acc: 0.7645\n",
            "Epoch 133/150\n",
            "19/19 [==============================] - 17s 899ms/step - loss: 0.0809 - acc: 0.9408 - val_loss: 0.1529 - val_acc: 0.7338\n",
            "Epoch 134/150\n",
            "19/19 [==============================] - 17s 906ms/step - loss: 0.0767 - acc: 0.9391 - val_loss: 0.1569 - val_acc: 0.7406\n",
            "Epoch 135/150\n",
            "19/19 [==============================] - 18s 962ms/step - loss: 0.0720 - acc: 0.9526 - val_loss: 0.1471 - val_acc: 0.7713\n",
            "Epoch 136/150\n",
            "19/19 [==============================] - 17s 923ms/step - loss: 0.0750 - acc: 0.9560 - val_loss: 0.1473 - val_acc: 0.7713\n",
            "Epoch 137/150\n",
            "19/19 [==============================] - 17s 899ms/step - loss: 0.0729 - acc: 0.9459 - val_loss: 0.1466 - val_acc: 0.7850\n",
            "Epoch 138/150\n",
            "19/19 [==============================] - 17s 917ms/step - loss: 0.0772 - acc: 0.9340 - val_loss: 0.1497 - val_acc: 0.7747\n",
            "Epoch 139/150\n",
            "19/19 [==============================] - 17s 896ms/step - loss: 0.0710 - acc: 0.9475 - val_loss: 0.1498 - val_acc: 0.7679\n",
            "Epoch 140/150\n",
            "19/19 [==============================] - 17s 906ms/step - loss: 0.0773 - acc: 0.9340 - val_loss: 0.1500 - val_acc: 0.7372\n",
            "Epoch 141/150\n",
            "19/19 [==============================] - 18s 957ms/step - loss: 0.0708 - acc: 0.9526 - val_loss: 0.1497 - val_acc: 0.7645\n",
            "Epoch 142/150\n",
            "19/19 [==============================] - 17s 910ms/step - loss: 0.0727 - acc: 0.9475 - val_loss: 0.1470 - val_acc: 0.7577\n",
            "Epoch 143/150\n",
            "19/19 [==============================] - 17s 898ms/step - loss: 0.0707 - acc: 0.9475 - val_loss: 0.1491 - val_acc: 0.7543\n",
            "Epoch 144/150\n",
            "19/19 [==============================] - 17s 907ms/step - loss: 0.0741 - acc: 0.9408 - val_loss: 0.1509 - val_acc: 0.7201\n",
            "Epoch 145/150\n",
            "19/19 [==============================] - 17s 922ms/step - loss: 0.0719 - acc: 0.9526 - val_loss: 0.1393 - val_acc: 0.7918\n",
            "Epoch 146/150\n",
            "19/19 [==============================] - 17s 895ms/step - loss: 0.0728 - acc: 0.9509 - val_loss: 0.1531 - val_acc: 0.7543\n",
            "Epoch 147/150\n",
            "19/19 [==============================] - 18s 949ms/step - loss: 0.0729 - acc: 0.9425 - val_loss: 0.1462 - val_acc: 0.7782\n",
            "Epoch 148/150\n",
            "19/19 [==============================] - 17s 908ms/step - loss: 0.0722 - acc: 0.9509 - val_loss: 0.1470 - val_acc: 0.7611\n",
            "Epoch 149/150\n",
            "19/19 [==============================] - 17s 911ms/step - loss: 0.0696 - acc: 0.9611 - val_loss: 0.1523 - val_acc: 0.7747\n",
            "Epoch 150/150\n",
            "19/19 [==============================] - 17s 903ms/step - loss: 0.0722 - acc: 0.9475 - val_loss: 0.1489 - val_acc: 0.7713\n"
          ]
        }
      ],
      "source": [
        "from tensorflow.keras.optimizers import Adam\n",
        "from tensorflow.keras.callbacks import EarlyStopping\n",
        "\n",
        "model.compile(loss='binary_crossentropy',\n",
        "              optimizer=Adam(lr=0.00001),\n",
        "              metrics=['acc'])\n",
        "\n",
        "results = model.fit(train_image_gen,epochs=150, validation_data=val_image_gen)"
      ]
    },
    {
      "cell_type": "code",
      "execution_count": null,
      "id": "944e61bd",
      "metadata": {
        "execution": {
          "iopub.execute_input": "2022-08-28T08:28:05.242339Z",
          "iopub.status.busy": "2022-08-28T08:28:05.241837Z",
          "iopub.status.idle": "2022-08-28T08:28:05.268372Z",
          "shell.execute_reply": "2022-08-28T08:28:05.267271Z"
        },
        "papermill": {
          "duration": 0.2047,
          "end_time": "2022-08-28T08:28:05.270519",
          "exception": false,
          "start_time": "2022-08-28T08:28:05.065819",
          "status": "completed"
        },
        "tags": [],
        "colab": {
          "base_uri": "https://localhost:8080/",
          "height": 424
        },
        "id": "944e61bd",
        "outputId": "3d153064-0760-4e3a-afe7-abb4e43cfb94"
      },
      "outputs": [
        {
          "output_type": "execute_result",
          "data": {
            "text/plain": [
              "         loss       acc  val_loss   val_acc\n",
              "0    0.521116  0.096447  0.348451  0.150171\n",
              "1    0.384403  0.135364  0.343674  0.225256\n",
              "2    0.368931  0.142132  0.326711  0.286689\n",
              "3    0.343433  0.252115  0.316243  0.344710\n",
              "4    0.338254  0.247039  0.305921  0.409556\n",
              "..        ...       ...       ...       ...\n",
              "145  0.072801  0.950931  0.153097  0.754266\n",
              "146  0.072933  0.942470  0.146201  0.778157\n",
              "147  0.072186  0.950931  0.147050  0.761092\n",
              "148  0.069602  0.961083  0.152271  0.774744\n",
              "149  0.072164  0.947547  0.148917  0.771331\n",
              "\n",
              "[150 rows x 4 columns]"
            ],
            "text/html": [
              "\n",
              "  <div id=\"df-50ec2511-bebc-428b-a6e4-db13d1344db2\">\n",
              "    <div class=\"colab-df-container\">\n",
              "      <div>\n",
              "<style scoped>\n",
              "    .dataframe tbody tr th:only-of-type {\n",
              "        vertical-align: middle;\n",
              "    }\n",
              "\n",
              "    .dataframe tbody tr th {\n",
              "        vertical-align: top;\n",
              "    }\n",
              "\n",
              "    .dataframe thead th {\n",
              "        text-align: right;\n",
              "    }\n",
              "</style>\n",
              "<table border=\"1\" class=\"dataframe\">\n",
              "  <thead>\n",
              "    <tr style=\"text-align: right;\">\n",
              "      <th></th>\n",
              "      <th>loss</th>\n",
              "      <th>acc</th>\n",
              "      <th>val_loss</th>\n",
              "      <th>val_acc</th>\n",
              "    </tr>\n",
              "  </thead>\n",
              "  <tbody>\n",
              "    <tr>\n",
              "      <th>0</th>\n",
              "      <td>0.521116</td>\n",
              "      <td>0.096447</td>\n",
              "      <td>0.348451</td>\n",
              "      <td>0.150171</td>\n",
              "    </tr>\n",
              "    <tr>\n",
              "      <th>1</th>\n",
              "      <td>0.384403</td>\n",
              "      <td>0.135364</td>\n",
              "      <td>0.343674</td>\n",
              "      <td>0.225256</td>\n",
              "    </tr>\n",
              "    <tr>\n",
              "      <th>2</th>\n",
              "      <td>0.368931</td>\n",
              "      <td>0.142132</td>\n",
              "      <td>0.326711</td>\n",
              "      <td>0.286689</td>\n",
              "    </tr>\n",
              "    <tr>\n",
              "      <th>3</th>\n",
              "      <td>0.343433</td>\n",
              "      <td>0.252115</td>\n",
              "      <td>0.316243</td>\n",
              "      <td>0.344710</td>\n",
              "    </tr>\n",
              "    <tr>\n",
              "      <th>4</th>\n",
              "      <td>0.338254</td>\n",
              "      <td>0.247039</td>\n",
              "      <td>0.305921</td>\n",
              "      <td>0.409556</td>\n",
              "    </tr>\n",
              "    <tr>\n",
              "      <th>...</th>\n",
              "      <td>...</td>\n",
              "      <td>...</td>\n",
              "      <td>...</td>\n",
              "      <td>...</td>\n",
              "    </tr>\n",
              "    <tr>\n",
              "      <th>145</th>\n",
              "      <td>0.072801</td>\n",
              "      <td>0.950931</td>\n",
              "      <td>0.153097</td>\n",
              "      <td>0.754266</td>\n",
              "    </tr>\n",
              "    <tr>\n",
              "      <th>146</th>\n",
              "      <td>0.072933</td>\n",
              "      <td>0.942470</td>\n",
              "      <td>0.146201</td>\n",
              "      <td>0.778157</td>\n",
              "    </tr>\n",
              "    <tr>\n",
              "      <th>147</th>\n",
              "      <td>0.072186</td>\n",
              "      <td>0.950931</td>\n",
              "      <td>0.147050</td>\n",
              "      <td>0.761092</td>\n",
              "    </tr>\n",
              "    <tr>\n",
              "      <th>148</th>\n",
              "      <td>0.069602</td>\n",
              "      <td>0.961083</td>\n",
              "      <td>0.152271</td>\n",
              "      <td>0.774744</td>\n",
              "    </tr>\n",
              "    <tr>\n",
              "      <th>149</th>\n",
              "      <td>0.072164</td>\n",
              "      <td>0.947547</td>\n",
              "      <td>0.148917</td>\n",
              "      <td>0.771331</td>\n",
              "    </tr>\n",
              "  </tbody>\n",
              "</table>\n",
              "<p>150 rows × 4 columns</p>\n",
              "</div>\n",
              "      <button class=\"colab-df-convert\" onclick=\"convertToInteractive('df-50ec2511-bebc-428b-a6e4-db13d1344db2')\"\n",
              "              title=\"Convert this dataframe to an interactive table.\"\n",
              "              style=\"display:none;\">\n",
              "        \n",
              "  <svg xmlns=\"http://www.w3.org/2000/svg\" height=\"24px\"viewBox=\"0 0 24 24\"\n",
              "       width=\"24px\">\n",
              "    <path d=\"M0 0h24v24H0V0z\" fill=\"none\"/>\n",
              "    <path d=\"M18.56 5.44l.94 2.06.94-2.06 2.06-.94-2.06-.94-.94-2.06-.94 2.06-2.06.94zm-11 1L8.5 8.5l.94-2.06 2.06-.94-2.06-.94L8.5 2.5l-.94 2.06-2.06.94zm10 10l.94 2.06.94-2.06 2.06-.94-2.06-.94-.94-2.06-.94 2.06-2.06.94z\"/><path d=\"M17.41 7.96l-1.37-1.37c-.4-.4-.92-.59-1.43-.59-.52 0-1.04.2-1.43.59L10.3 9.45l-7.72 7.72c-.78.78-.78 2.05 0 2.83L4 21.41c.39.39.9.59 1.41.59.51 0 1.02-.2 1.41-.59l7.78-7.78 2.81-2.81c.8-.78.8-2.07 0-2.86zM5.41 20L4 18.59l7.72-7.72 1.47 1.35L5.41 20z\"/>\n",
              "  </svg>\n",
              "      </button>\n",
              "      \n",
              "  <style>\n",
              "    .colab-df-container {\n",
              "      display:flex;\n",
              "      flex-wrap:wrap;\n",
              "      gap: 12px;\n",
              "    }\n",
              "\n",
              "    .colab-df-convert {\n",
              "      background-color: #E8F0FE;\n",
              "      border: none;\n",
              "      border-radius: 50%;\n",
              "      cursor: pointer;\n",
              "      display: none;\n",
              "      fill: #1967D2;\n",
              "      height: 32px;\n",
              "      padding: 0 0 0 0;\n",
              "      width: 32px;\n",
              "    }\n",
              "\n",
              "    .colab-df-convert:hover {\n",
              "      background-color: #E2EBFA;\n",
              "      box-shadow: 0px 1px 2px rgba(60, 64, 67, 0.3), 0px 1px 3px 1px rgba(60, 64, 67, 0.15);\n",
              "      fill: #174EA6;\n",
              "    }\n",
              "\n",
              "    [theme=dark] .colab-df-convert {\n",
              "      background-color: #3B4455;\n",
              "      fill: #D2E3FC;\n",
              "    }\n",
              "\n",
              "    [theme=dark] .colab-df-convert:hover {\n",
              "      background-color: #434B5C;\n",
              "      box-shadow: 0px 1px 3px 1px rgba(0, 0, 0, 0.15);\n",
              "      filter: drop-shadow(0px 1px 2px rgba(0, 0, 0, 0.3));\n",
              "      fill: #FFFFFF;\n",
              "    }\n",
              "  </style>\n",
              "\n",
              "      <script>\n",
              "        const buttonEl =\n",
              "          document.querySelector('#df-50ec2511-bebc-428b-a6e4-db13d1344db2 button.colab-df-convert');\n",
              "        buttonEl.style.display =\n",
              "          google.colab.kernel.accessAllowed ? 'block' : 'none';\n",
              "\n",
              "        async function convertToInteractive(key) {\n",
              "          const element = document.querySelector('#df-50ec2511-bebc-428b-a6e4-db13d1344db2');\n",
              "          const dataTable =\n",
              "            await google.colab.kernel.invokeFunction('convertToInteractive',\n",
              "                                                     [key], {});\n",
              "          if (!dataTable) return;\n",
              "\n",
              "          const docLinkHtml = 'Like what you see? Visit the ' +\n",
              "            '<a target=\"_blank\" href=https://colab.research.google.com/notebooks/data_table.ipynb>data table notebook</a>'\n",
              "            + ' to learn more about interactive tables.';\n",
              "          element.innerHTML = '';\n",
              "          dataTable['output_type'] = 'display_data';\n",
              "          await google.colab.output.renderOutput(dataTable, element);\n",
              "          const docLink = document.createElement('div');\n",
              "          docLink.innerHTML = docLinkHtml;\n",
              "          element.appendChild(docLink);\n",
              "        }\n",
              "      </script>\n",
              "    </div>\n",
              "  </div>\n",
              "  "
            ]
          },
          "metadata": {},
          "execution_count": 15
        }
      ],
      "source": [
        "plot_df = pd.DataFrame(model.history.history)\n",
        "plot_df"
      ]
    },
    {
      "cell_type": "code",
      "execution_count": null,
      "id": "d06dec73",
      "metadata": {
        "execution": {
          "iopub.execute_input": "2022-08-28T08:28:05.620369Z",
          "iopub.status.busy": "2022-08-28T08:28:05.619951Z",
          "iopub.status.idle": "2022-08-28T08:28:05.883056Z",
          "shell.execute_reply": "2022-08-28T08:28:05.882076Z"
        },
        "papermill": {
          "duration": 0.439599,
          "end_time": "2022-08-28T08:28:05.885343",
          "exception": false,
          "start_time": "2022-08-28T08:28:05.445744",
          "status": "completed"
        },
        "tags": [],
        "colab": {
          "base_uri": "https://localhost:8080/",
          "height": 285
        },
        "id": "d06dec73",
        "outputId": "ef428f22-39a0-456c-dd00-1324b1817ed5"
      },
      "outputs": [
        {
          "output_type": "execute_result",
          "data": {
            "text/plain": [
              "<matplotlib.axes._subplots.AxesSubplot at 0x7f6596ba1cd0>"
            ]
          },
          "metadata": {},
          "execution_count": 16
        },
        {
          "output_type": "display_data",
          "data": {
            "text/plain": [
              "<Figure size 432x288 with 1 Axes>"
            ],
            "image/png": "[encoded data removed]"
          },
          "metadata": {
            "needs_background": "light"
          }
        }
      ],
      "source": [
        "plot_df[['acc', 'val_acc']].plot()"
      ]
    },
    {
      "cell_type": "code",
      "execution_count": null,
      "id": "7b1c462b",
      "metadata": {
        "execution": {
          "iopub.execute_input": "2022-08-28T08:28:06.287689Z",
          "iopub.status.busy": "2022-08-28T08:28:06.287324Z",
          "iopub.status.idle": "2022-08-28T08:28:06.524984Z",
          "shell.execute_reply": "2022-08-28T08:28:06.523984Z"
        },
        "papermill": {
          "duration": 0.415578,
          "end_time": "2022-08-28T08:28:06.527323",
          "exception": false,
          "start_time": "2022-08-28T08:28:06.111745",
          "status": "completed"
        },
        "tags": [],
        "colab": {
          "base_uri": "https://localhost:8080/",
          "height": 282
        },
        "id": "7b1c462b",
        "outputId": "dae94c76-cc16-4956-8f66-4b6189014af8"
      },
      "outputs": [
        {
          "output_type": "execute_result",
          "data": {
            "text/plain": [
              "<matplotlib.axes._subplots.AxesSubplot at 0x7f6596aa3e10>"
            ]
          },
          "metadata": {},
          "execution_count": 17
        },
        {
          "output_type": "display_data",
          "data": {
            "text/plain": [
              "<Figure size 432x288 with 1 Axes>"
            ],
            "image/png": "[encoded data removed]"
          },
          "metadata": {
            "needs_background": "light"
          }
        }
      ],
      "source": [
        "plot_df[['loss', 'val_loss']].plot()"
      ]
    },
    {
      "cell_type": "markdown",
      "source": [
        "# Testing the model with Test Data"
      ],
      "metadata": {
        "id": "MFeGAHg14KiN"
      },
      "id": "MFeGAHg14KiN"
    },
    {
      "cell_type": "code",
      "execution_count": null,
      "id": "17097631",
      "metadata": {
        "execution": {
          "iopub.execute_input": "2022-08-28T08:28:06.876742Z",
          "iopub.status.busy": "2022-08-28T08:28:06.876375Z",
          "iopub.status.idle": "2022-08-28T08:28:10.779771Z",
          "shell.execute_reply": "2022-08-28T08:28:10.778709Z"
        },
        "papermill": {
          "duration": 4.081847,
          "end_time": "2022-08-28T08:28:10.783092",
          "exception": false,
          "start_time": "2022-08-28T08:28:06.701245",
          "status": "completed"
        },
        "tags": [],
        "colab": {
          "base_uri": "https://localhost:8080/"
        },
        "id": "17097631",
        "outputId": "b78b568d-4b2e-40d1-c6f2-fc504a2205cd"
      },
      "outputs": [
        {
          "output_type": "stream",
          "name": "stdout",
          "text": [
            "    Test Loss : 12.56%\n",
            "Test Accuracy : 81.65%\n"
          ]
        }
      ],
      "source": [
        "#we can test our model on testing data\n",
        "results = model.evaluate(test_image_gen, verbose=0)\n",
        "\n",
        "print(\"    Test Loss : {:.2f}%\".format(results[0] * 100))\n",
        "print(\"Test Accuracy : {:.2f}%\".format(results[1] * 100))"
      ]
    },
    {
      "cell_type": "markdown",
      "source": [
        "# Classification Metrics"
      ],
      "metadata": {
        "id": "LCCoXLMY4dy5"
      },
      "id": "LCCoXLMY4dy5"
    },
    {
      "cell_type": "code",
      "execution_count": null,
      "id": "3152f9db",
      "metadata": {
        "execution": {
          "iopub.execute_input": "2022-08-28T08:28:11.135155Z",
          "iopub.status.busy": "2022-08-28T08:28:11.134416Z",
          "iopub.status.idle": "2022-08-28T08:28:13.952358Z",
          "shell.execute_reply": "2022-08-28T08:28:13.951114Z"
        },
        "papermill": {
          "duration": 2.99864,
          "end_time": "2022-08-28T08:28:13.955479",
          "exception": false,
          "start_time": "2022-08-28T08:28:10.956839",
          "status": "completed"
        },
        "tags": [],
        "colab": {
          "base_uri": "https://localhost:8080/"
        },
        "id": "3152f9db",
        "outputId": "ac319dc0-c3d1-4224-c1b9-7ae4370cb3d1"
      },
      "outputs": [
        {
          "output_type": "stream",
          "name": "stdout",
          "text": [
            "                 precision    recall  f1-score   support\n",
            "\n",
            "    ayam_goreng       0.75      0.82      0.78        11\n",
            "       ayam_pop       0.86      0.92      0.89        13\n",
            " daging_rendang       0.64      0.82      0.72        11\n",
            "dendeng_batokok       1.00      0.67      0.80        12\n",
            "     gulai_ikan       1.00      0.83      0.91        12\n",
            "  gulai_tambusu       0.89      0.67      0.76        12\n",
            "  gulai_tunjang       0.71      0.77      0.74        13\n",
            "   telur_balado       0.64      0.75      0.69        12\n",
            "    telur_dadar       0.93      1.00      0.96        13\n",
            "\n",
            "       accuracy                           0.81       109\n",
            "      macro avg       0.82      0.81      0.81       109\n",
            "   weighted avg       0.83      0.81      0.81       109\n",
            "\n"
          ]
        }
      ],
      "source": [
        "predictions = np.argmax(model.predict(test_image_gen), axis = -1)\n",
        "predictions\n",
        "from sklearn.metrics import classification_report, confusion_matrix\n",
        "print(classification_report(test_image_gen.classes,predictions,target_names=['ayam_goreng', 'ayam_pop', 'daging_rendang', 'dendeng_batokok', 'gulai_ikan', 'gulai_tambusu', 'gulai_tunjang', 'telur_balado', 'telur_dadar']))"
      ]
    },
    {
      "cell_type": "code",
      "execution_count": null,
      "id": "47e35dc0",
      "metadata": {
        "execution": {
          "iopub.execute_input": "2022-08-28T08:28:14.306664Z",
          "iopub.status.busy": "2022-08-28T08:28:14.306075Z",
          "iopub.status.idle": "2022-08-28T08:28:14.998160Z",
          "shell.execute_reply": "2022-08-28T08:28:14.997189Z"
        },
        "papermill": {
          "duration": 0.870764,
          "end_time": "2022-08-28T08:28:15.000503",
          "exception": false,
          "start_time": "2022-08-28T08:28:14.129739",
          "status": "completed"
        },
        "tags": [],
        "colab": {
          "base_uri": "https://localhost:8080/",
          "height": 544
        },
        "id": "47e35dc0",
        "outputId": "86d2a094-0e5d-4ee3-d440-11574d050bb5"
      },
      "outputs": [
        {
          "output_type": "stream",
          "name": "stdout",
          "text": [
            "Confusion matrix\n"
          ]
        },
        {
          "output_type": "display_data",
          "data": {
            "text/plain": [
              "<Figure size 720x504 with 2 Axes>"
            ],
            "image/png": "[encoded data removed]"
          },
          "metadata": {
            "needs_background": "light"
          }
        }
      ],
      "source": [
        "import itertools\n",
        "def plot_confusion_matrix(cm, classes,\n",
        "                          normalize=False,\n",
        "                          title='Confusion Matrix Classification Padang Cuisine Image',\n",
        "                          cmap=plt.cm.OrRd):\n",
        "    if normalize:\n",
        "        cm = cm.astype('float') / cm.sum(axis=1)[:, np.newaxis]\n",
        "        print(\"Normalized confusion matrix\")\n",
        "    else:\n",
        "        print('Confusion matrix')\n",
        "\n",
        "    #print(cm)\n",
        "    plt.rcParams['figure.figsize'] = (10.0, 7.0)\n",
        "    plt.imshow(cm, interpolation='nearest', cmap=cmap)\n",
        "    plt.title(title, fontsize = 13)\n",
        "    plt.colorbar()\n",
        "    tick_marks = np.arange(len(classes))\n",
        "    plt.xticks(tick_marks, classes, rotation=90)\n",
        "    plt.yticks(tick_marks, classes)\n",
        "\n",
        "    fmt = '.2f' if normalize else 'd'\n",
        "    thresh = cm.max() / 2.\n",
        "    for i, j in itertools.product(range(cm.shape[0]), range(cm.shape[1])):\n",
        "        plt.text(j, i, format(cm[i, j], fmt),\n",
        "                 horizontalalignment=\"center\",\n",
        "                 color=\"white\" if cm[i, j] > thresh else \"black\")\n",
        "\n",
        "    plt.tight_layout()\n",
        "    plt.ylabel('True label')\n",
        "    plt.xlabel('Predicted label')\n",
        "\n",
        "cnf_matrix=confusion_matrix(test_image_gen.classes,predictions)\n",
        "plot_confusion_matrix(cnf_matrix, classes=test_image_gen.class_indices)"
      ]
    }
  ],
  "metadata": {
    "kernelspec": {
      "display_name": "Python 3",
      "language": "python",
      "name": "python3"
    },
    "language_info": {
      "codemirror_mode": {
        "name": "ipython",
        "version": 3
      },
      "file_extension": ".py",
      "mimetype": "text/x-python",
      "name": "python",
      "nbconvert_exporter": "python",
      "pygments_lexer": "ipython3",
      "version": "3.7.12"
    },
    "papermill": {
      "default_parameters": {},
      "duration": 2636.629013,
      "end_time": "2022-08-28T08:28:18.175380",
      "environment_variables": {},
      "exception": null,
      "input_path": "__notebook__.ipynb",
      "output_path": "__notebook__.ipynb",
      "parameters": {},
      "start_time": "2022-08-28T07:44:21.546367",
      "version": "2.3.4"
    },
    "colab": {
      "provenance": [],
      "collapsed_sections": [],
      "include_colab_link": true
    },
    "accelerator": "GPU",
    "gpuClass": "standard"
  },
  "nbformat": 4,
  "nbformat_minor": 5
}